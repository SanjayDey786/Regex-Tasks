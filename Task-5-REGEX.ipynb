{
 "cells": [
  {
   "cell_type": "markdown",
   "metadata": {},
   "source": [
    "# Regex\n",
    "## Task 3\n",
    "### Name-Sanjay Dey\n",
    "### Registration id - SIRSS2204\n",
    "\n",
    "\n"
   ]
  },
  {
   "cell_type": "markdown",
   "metadata": {},
   "source": [
    "## Q1. Given a list of integers, write a function to return the sum of all prime numbers in that list."
   ]
  },
  {
   "cell_type": "code",
   "execution_count": 1,
   "metadata": {},
   "outputs": [
    {
     "name": "stdout",
     "output_type": "stream",
     "text": [
      "2 3 4 5 7 11\n",
      "28\n"
     ]
    }
   ],
   "source": [
    "numbers=input(\"\").split(' ')\n",
    "sum=0\n",
    "for n in numbers:\n",
    "    n=int(n)\n",
    "    isPrime=True\n",
    "    if n > 1:\n",
    "       \n",
    "        for i in range(2, n):\n",
    "            if (n % i) == 0:\n",
    "                isPrime=False\n",
    "                break\n",
    "        if isPrime:\n",
    "            sum+=n\n",
    "\n",
    "\n",
    "\n",
    "print(str(sum))"
   ]
  },
  {
   "cell_type": "markdown",
   "metadata": {},
   "source": [
    "## Q2. Given a list of integers, write a function to check whether the list is strictly increasing or not."
   ]
  },
  {
   "cell_type": "code",
   "execution_count": 4,
   "metadata": {},
   "outputs": [
    {
     "name": "stdout",
     "output_type": "stream",
     "text": [
      "4 5 6 7 8 9\n",
      "Input list : [4, 5, 6, 7, 8, 9]\n",
      "Strictly increasing ? : True\n"
     ]
    }
   ],
   "source": [
    "list1=[int(i) for i in input(\"\").split(' ')]\n",
    "  \n",
    "\n",
    "print(\"Input list : \" + str(list1))\n",
    "  \n",
    "result = all(i < j for i, j in zip(list1,list1[1:]))\n",
    "  \n",
    "\n",
    "print(\"Strictly increasing ? : \" + str(result))"
   ]
  },
  {
   "cell_type": "markdown",
   "metadata": {},
   "source": [
    "## Q3. Write a function to check whether a given list is expanding or not (the difference between adjacent elements should keep on increasing)."
   ]
  },
  {
   "cell_type": "code",
   "execution_count": 10,
   "metadata": {},
   "outputs": [
    {
     "data": {
      "text/plain": [
       "'List Expanding'"
      ]
     },
     "execution_count": 10,
     "metadata": {},
     "output_type": "execute_result"
    }
   ],
   "source": [
    "def isExpanding(a):\n",
    "    if all(a[i]<=a[i+1]  for i in range(len(a)-1) ):\n",
    "        return \"List Expanding\"\n",
    "    elif all(a[i]>=a[i+1] for i in range(len(a)-1)):\n",
    "        return \"List Not Expanding\"\n",
    "    return \"List Not Expanding\"\n",
    "a = [5,6,7,8,12,45]\n",
    "isExpanding(a)"
   ]
  },
  {
   "cell_type": "markdown",
   "metadata": {},
   "source": [
    "## Q4. Write a function to calculate all permutations of a given string. (Without using itertools)"
   ]
  },
  {
   "cell_type": "code",
   "execution_count": 13,
   "metadata": {},
   "outputs": [
    {
     "name": "stdout",
     "output_type": "stream",
     "text": [
      "\"\"\n",
      "Permutation of given string: \n",
      "\"\"  \"\"  "
     ]
    }
   ],
   "source": [
    "def permutation(n, ans):\n",
    "    if (len(n) == 0):\n",
    "        print(ans, end = \"  \")\n",
    "        return\n",
    "     \n",
    "    for i in range(len(n)):\n",
    "        ch = n[i]\n",
    "        left = n[0:i]\n",
    "        right = n[i + 1:]\n",
    "        rest = left + right\n",
    "        permutation(rest, ans + ch)\n",
    " \n",
    "\n",
    "ans = \"\"\n",
    " \n",
    "n = input()\n",
    " \n",
    "print(\"Permutation of given string: \")\n",
    "permutation(n, ans)"
   ]
  },
  {
   "cell_type": "code",
   "execution_count": null,
   "metadata": {},
   "outputs": [],
   "source": []
  }
 ],
 "metadata": {
  "kernelspec": {
   "display_name": "Python 3",
   "language": "python",
   "name": "python3"
  },
  "language_info": {
   "codemirror_mode": {
    "name": "ipython",
    "version": 3
   },
   "file_extension": ".py",
   "mimetype": "text/x-python",
   "name": "python",
   "nbconvert_exporter": "python",
   "pygments_lexer": "ipython3",
   "version": "3.8.5"
  }
 },
 "nbformat": 4,
 "nbformat_minor": 4
}
