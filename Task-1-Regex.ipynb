{
 "cells": [
  {
   "cell_type": "markdown",
   "metadata": {},
   "source": [
    "# Regex\n",
    "## Task 1"
   ]
  },
  {
   "cell_type": "markdown",
   "metadata": {},
   "source": [
    "### Q1)"
   ]
  },
  {
   "cell_type": "raw",
   "metadata": {},
   "source": [
    "55555 \n",
    "5555 \n",
    "555 \n",
    "55\n",
    "5"
   ]
  },
  {
   "cell_type": "code",
   "execution_count": 154,
   "metadata": {},
   "outputs": [
    {
     "name": "stdout",
     "output_type": "stream",
     "text": [
      "55555\n",
      "5555\n",
      "555\n",
      "55\n",
      "5\n"
     ]
    }
   ],
   "source": [
    "for i in range(6,1,-1):\n",
    "    for j in range(1,i):\n",
    "        print(5,end='')\n",
    "    print('')"
   ]
  },
  {
   "cell_type": "markdown",
   "metadata": {},
   "source": [
    "### Q2)"
   ]
  },
  {
   "cell_type": "raw",
   "metadata": {},
   "source": [
    "012345 \n",
    "01234 \n",
    "0123 \n",
    "012\n",
    "01"
   ]
  },
  {
   "cell_type": "code",
   "execution_count": 12,
   "metadata": {},
   "outputs": [
    {
     "name": "stdout",
     "output_type": "stream",
     "text": [
      "012345\n",
      "01234\n",
      "0123\n",
      "012\n",
      "01\n"
     ]
    }
   ],
   "source": [
    "for i in range(6,1,-1):\n",
    "    for j in range(i):\n",
    "        print(j,end='')\n",
    "    print('')"
   ]
  },
  {
   "cell_type": "markdown",
   "metadata": {},
   "source": [
    "### Q3)"
   ]
  },
  {
   "cell_type": "raw",
   "metadata": {},
   "source": [
    "1\n",
    "33 \n",
    "555 \n",
    "7777 \n",
    "99999"
   ]
  },
  {
   "cell_type": "code",
   "execution_count": 25,
   "metadata": {},
   "outputs": [
    {
     "name": "stdout",
     "output_type": "stream",
     "text": [
      "1\n",
      "33\n",
      "555\n",
      "7777\n",
      "99999\n"
     ]
    }
   ],
   "source": [
    "for i in range(1,11,2):\n",
    "    for j in range(0,i,2):\n",
    "        print(i,end='')\n",
    "    print('')"
   ]
  },
  {
   "cell_type": "markdown",
   "metadata": {},
   "source": [
    "### Q4)"
   ]
  },
  {
   "cell_type": "raw",
   "metadata": {},
   "source": [
    "1\n",
    "21 \n",
    "321 \n",
    "4321 \n",
    "54321"
   ]
  },
  {
   "cell_type": "code",
   "execution_count": 38,
   "metadata": {},
   "outputs": [
    {
     "name": "stdout",
     "output_type": "stream",
     "text": [
      "1\n",
      "21\n",
      "321\n",
      "4321\n",
      "54321\n"
     ]
    }
   ],
   "source": [
    "i=1\n",
    "while i<=5: \n",
    "    j=i\n",
    "    while j>=1: \n",
    "        print(j, end = '')  \n",
    "        j=j-1\n",
    "    i=i+1\n",
    "    print(\"\")"
   ]
  },
  {
   "cell_type": "markdown",
   "metadata": {},
   "source": [
    "### Q5)"
   ]
  },
  {
   "cell_type": "raw",
   "metadata": {},
   "source": [
    "1\n",
    "3 2 \n",
    "6 5 4\n",
    "10 9 8 7"
   ]
  },
  {
   "cell_type": "code",
   "execution_count": 17,
   "metadata": {},
   "outputs": [
    {
     "name": "stdout",
     "output_type": "stream",
     "text": [
      "1 \n",
      "3 2 \n",
      "6 5 4 \n",
      "10 9 8 7 \n"
     ]
    }
   ],
   "source": [
    "start = 1\n",
    "\n",
    "stop = 2\n",
    "\n",
    "currentNumber = stop\n",
    "\n",
    "for row in range(2, 6):\n",
    "\n",
    "    for col in range(start, stop):\n",
    "\n",
    "        currentNumber -= 1\n",
    "\n",
    "        print(currentNumber, end=' ')\n",
    "\n",
    "    print(\"\")\n",
    "\n",
    "    start = stop\n",
    "\n",
    "    stop += row\n",
    "\n",
    "    currentNumber = stop"
   ]
  },
  {
   "cell_type": "markdown",
   "metadata": {},
   "source": [
    "### Q6)"
   ]
  },
  {
   "cell_type": "raw",
   "metadata": {},
   "source": [
    "1\n",
    "1 1\n",
    "1 2 1\n",
    "1 3 3 1 \n",
    "1 4 6 4 1\n",
    "1 5 10 10 5 1\n",
    "1 6 15 20 15 6 1"
   ]
  },
  {
   "cell_type": "code",
   "execution_count": 34,
   "metadata": {},
   "outputs": [
    {
     "name": "stdout",
     "output_type": "stream",
     "text": [
      " 1\n",
      " 1 1\n",
      " 1 2 1\n",
      " 1 3 3 1\n",
      " 1 4 6 4 1\n",
      " 1 5 10 10 5 1\n",
      " 1 6 15 20 15 6 1\n"
     ]
    }
   ],
   "source": [
    "for i in range(1, 8):\n",
    "    for j in range(0, 8-i+1):\n",
    "        print('', end='')\n",
    " \n",
    "    # first element is always 1\n",
    "    C = 1\n",
    "    for j in range(1, i+1):\n",
    " \n",
    "        # first value in a line is always 1\n",
    "        print('', C, end='')\n",
    " \n",
    "        # using Binomial Coefficient\n",
    "        C = C * (i - j) // j\n",
    "    print()"
   ]
  },
  {
   "cell_type": "markdown",
   "metadata": {},
   "source": [
    "### Q7)"
   ]
  },
  {
   "cell_type": "raw",
   "metadata": {},
   "source": [
    "12345 \n",
    "22345 \n",
    "33345 \n",
    "44445 \n",
    "55555"
   ]
  },
  {
   "cell_type": "code",
   "execution_count": 110,
   "metadata": {},
   "outputs": [
    {
     "name": "stdout",
     "output_type": "stream",
     "text": [
      "12345\n",
      "22345\n",
      "33345\n",
      "44445\n",
      "55555\n"
     ]
    }
   ],
   "source": [
    "rows = 5\n",
    "for i in range(1, rows + 1):\n",
    "    for j in range(1, rows + 1):\n",
    "        if j <= i:\n",
    "            print(i, end='')\n",
    "        else:\n",
    "            print(j, end='')\n",
    "    print()"
   ]
  },
  {
   "cell_type": "markdown",
   "metadata": {},
   "source": [
    "### Q8)"
   ]
  },
  {
   "cell_type": "raw",
   "metadata": {},
   "source": [
    "1\n",
    "2 4\n",
    "3 6 9\n",
    "4 8 12 16\n",
    "5 10 15 20 25\n",
    "6 12 18 24 30 36\n",
    "7 14 21 28 35 42 49\n",
    "8 16 24 32 40 48 56 64"
   ]
  },
  {
   "cell_type": "code",
   "execution_count": 86,
   "metadata": {},
   "outputs": [
    {
     "name": "stdout",
     "output_type": "stream",
     "text": [
      "1 \n",
      "2 4 \n",
      "3 6 9 \n",
      "4 8 12 16 \n",
      "5 10 15 20 25 \n",
      "6 12 18 24 30 36 \n",
      "7 14 21 28 35 42 49 \n",
      "8 16 24 32 40 48 56 64 \n"
     ]
    }
   ],
   "source": [
    "for i in range(1,9):\n",
    "    for j in range(1,i+1):\n",
    "        print(i*j,end=' ')\n",
    "    print('')"
   ]
  },
  {
   "cell_type": "markdown",
   "metadata": {},
   "source": [
    "### Q9)"
   ]
  },
  {
   "cell_type": "raw",
   "metadata": {},
   "source": [
    "    * * * * * * \n",
    "     * * * * * \n",
    "      * * * * \n",
    "       * * * \n",
    "        * *\n",
    "         *"
   ]
  },
  {
   "cell_type": "code",
   "execution_count": 98,
   "metadata": {},
   "outputs": [
    {
     "name": "stdout",
     "output_type": "stream",
     "text": [
      "          * * * * * * * \n",
      "           * * * * * * \n",
      "            * * * * * \n",
      "             * * * * \n",
      "              * * * \n",
      "               * * \n",
      "                * \n"
     ]
    }
   ],
   "source": [
    "rows=6\n",
    "k = 2 * rows - 2  \n",
    "# Outer loop in reverse order  \n",
    "for i in range(rows, -1, -1):  \n",
    "    # Inner loop will print the number of space.  \n",
    "    for j in range(k, 0, -1):  \n",
    "        print(end=\" \")  \n",
    "    k = k + 1  \n",
    "    # This inner loop will print the number o stars  \n",
    "    for j in range(0, i + 1):  \n",
    "        print(\"*\", end=\" \")  \n",
    "    print(\"\")"
   ]
  },
  {
   "cell_type": "markdown",
   "metadata": {},
   "source": [
    "### Q10)"
   ]
  },
  {
   "cell_type": "raw",
   "metadata": {},
   "source": [
    "        * \n",
    "       * *\n",
    "      * * * \n",
    "     * * * *\n",
    "    * * * * * \n",
    "   * * * * * *\n",
    "  * * * * * * *"
   ]
  },
  {
   "cell_type": "code",
   "execution_count": 105,
   "metadata": {},
   "outputs": [
    {
     "name": "stdout",
     "output_type": "stream",
     "text": [
      "            *   \n",
      "           *  *   \n",
      "          *  *  *   \n",
      "         *  *  *  *   \n",
      "        *  *  *  *  *   \n",
      "       *  *  *  *  *  *   \n",
      "      *  *  *  *  *  *  *   \n"
     ]
    }
   ],
   "source": [
    "n = 7\n",
    "m = (2 * n) - 2  \n",
    "for i in range(0, n):  \n",
    "    for j in range(0, m):  \n",
    "        print(end=\" \")  \n",
    "    m = m - 1  # decrementing m after each loop  \n",
    "    for j in range(0, i + 1):  \n",
    "        # printing full Triangle pyramid using stars  \n",
    "        print(\"* \", end=' ')  \n",
    "    print(\" \") "
   ]
  },
  {
   "cell_type": "markdown",
   "metadata": {},
   "source": [
    "### Q11)"
   ]
  },
  {
   "cell_type": "raw",
   "metadata": {},
   "source": [
    "*\n",
    "**\n",
    "*** \n",
    "**** \n",
    "***** \n",
    "******\n",
    "\n",
    "****** \n",
    "***** \n",
    "**** \n",
    "***\n",
    "** \n",
    "*"
   ]
  },
  {
   "cell_type": "code",
   "execution_count": 111,
   "metadata": {},
   "outputs": [
    {
     "name": "stdout",
     "output_type": "stream",
     "text": [
      "*  \n",
      "* *  \n",
      "* * *  \n",
      "* * * *  \n",
      "* * * * *  \n",
      "* * * * * *  \n",
      " \n",
      "* * * * * *  \n",
      "* * * * *  \n",
      "* * * *  \n",
      "* * *  \n",
      "* *  \n",
      "*  \n",
      " \n"
     ]
    }
   ],
   "source": [
    "rows = 6\n",
    "for i in range(0, rows):\n",
    "    for j in range(0, i + 1):\n",
    "        print(\"*\", end=' ')\n",
    "    print(\" \")\n",
    "\n",
    "print(\" \")\n",
    "\n",
    "for i in range(rows + 1, 0, -1):\n",
    "    for j in range(0, i - 1):\n",
    "        print(\"*\", end=' ')\n",
    "    print(\" \")"
   ]
  },
  {
   "cell_type": "markdown",
   "metadata": {},
   "source": [
    "### Q12)"
   ]
  },
  {
   "cell_type": "raw",
   "metadata": {},
   "source": [
    "*\n",
    "** \n",
    "*** \n",
    "**** \n",
    "***** \n",
    "**** \n",
    "*** \n",
    "**\n",
    "*"
   ]
  },
  {
   "cell_type": "code",
   "execution_count": 116,
   "metadata": {},
   "outputs": [
    {
     "name": "stdout",
     "output_type": "stream",
     "text": [
      "* \n",
      "** \n",
      "*** \n",
      "**** \n",
      "***** \n",
      "**** \n",
      "*** \n",
      "** \n",
      "* \n",
      " \n"
     ]
    }
   ],
   "source": [
    "rows = 5\n",
    "for i in range(0, rows):\n",
    "    for j in range(0, i + 1):\n",
    "        print(\"*\", end='')\n",
    "    print(\" \")\n",
    "for i in range(rows,0,-1):\n",
    "    for j in range(0, i - 1):\n",
    "        print(\"*\", end='')\n",
    "    print(\" \")"
   ]
  },
  {
   "cell_type": "markdown",
   "metadata": {},
   "source": [
    "### Q13)"
   ]
  },
  {
   "cell_type": "raw",
   "metadata": {},
   "source": [
    "        * \n",
    "       ** \n",
    "      *** \n",
    "     **** \n",
    "    ***** \n",
    "     **** \n",
    "      *** \n",
    "       **\n",
    "        *"
   ]
  },
  {
   "cell_type": "code",
   "execution_count": 118,
   "metadata": {},
   "outputs": [
    {
     "name": "stdout",
     "output_type": "stream",
     "text": [
      "    *\n",
      "   **\n",
      "  ***\n",
      " ****\n",
      "*****\n",
      " ****\n",
      "  ***\n",
      "   **\n",
      "    *\n",
      "     \n"
     ]
    }
   ],
   "source": [
    "rows = 5\n",
    "i = 1\n",
    "while i <= rows:\n",
    "    j = i\n",
    "    while j < rows:\n",
    "        # display space\n",
    "        print(' ', end='')\n",
    "        j += 1\n",
    "    k = 1\n",
    "    while k <= i:\n",
    "        print('*', end='')\n",
    "        k += 1\n",
    "    print()\n",
    "    i += 1\n",
    "\n",
    "i = rows\n",
    "while i >= 1:\n",
    "    j = i\n",
    "    while j <= rows:\n",
    "        print(' ', end='')\n",
    "        j += 1\n",
    "    k = 1\n",
    "    while k < i:\n",
    "        print('*', end='')\n",
    "        k += 1\n",
    "    print('')\n",
    "    i -= 1"
   ]
  },
  {
   "cell_type": "markdown",
   "metadata": {},
   "source": [
    "### Q14)"
   ]
  },
  {
   "cell_type": "raw",
   "metadata": {},
   "source": [
    "        * * * * * \n",
    "         * * * * \n",
    "          * * * \n",
    "           * *\n",
    "            *\n",
    "            * \n",
    "           * * \n",
    "          * * * \n",
    "         * * * * \n",
    "        * * * * *"
   ]
  },
  {
   "cell_type": "code",
   "execution_count": 151,
   "metadata": {},
   "outputs": [
    {
     "name": "stdout",
     "output_type": "stream",
     "text": [
      "* * * * * \n",
      " * * * * \n",
      "  * * * \n",
      "   * * \n",
      "    * \n",
      "    * \n",
      "   * * \n",
      "  * * * \n",
      " * * * * \n",
      "* * * * * \n"
     ]
    }
   ],
   "source": [
    "rows = 5\n",
    "i = 0\n",
    "while i <= rows - 1:\n",
    "    j = 0\n",
    "    while j < i:\n",
    "        # display space\n",
    "        print('', end=' ')\n",
    "        j += 1\n",
    "    k = i\n",
    "    while k <= rows - 1:\n",
    "        print('*', end=' ')\n",
    "        k += 1\n",
    "    print()\n",
    "    i += 1\n",
    "\n",
    "i = rows - 1\n",
    "while i >= 0:\n",
    "    j = 0\n",
    "    while j < i:\n",
    "        print('', end=' ')\n",
    "        j += 1\n",
    "    k = i\n",
    "    while k <= rows - 1:\n",
    "        print('*', end=' ')\n",
    "        k += 1\n",
    "    print('')\n",
    "    i -= 1"
   ]
  },
  {
   "cell_type": "markdown",
   "metadata": {},
   "source": [
    "### Q15)"
   ]
  },
  {
   "cell_type": "raw",
   "metadata": {},
   "source": [
    "****************\n",
    "*******__*******\n",
    "******____******\n",
    "*****______*****\n",
    "****________****\n",
    "***__________***\n",
    "**____________**\n",
    "*______________*"
   ]
  },
  {
   "cell_type": "code",
   "execution_count": 153,
   "metadata": {},
   "outputs": [
    {
     "name": "stdout",
     "output_type": "stream",
     "text": [
      "******************\n",
      "********__********\n",
      "*******____*******\n",
      "******______******\n",
      "*****________*****\n",
      "****__________****\n",
      "***____________***\n",
      "**______________**\n",
      "*________________*\n"
     ]
    }
   ],
   "source": [
    "rows = 18\n",
    "print(\"*\" * rows, end=\"\\n\")\n",
    "i = (rows // 2) - 1\n",
    "j = 2\n",
    "while i != 0:\n",
    "    while j <= (rows - 2):\n",
    "        print(\"*\" * i, end=\"\")\n",
    "        print(\"_\" * j, end=\"\")\n",
    "        print(\"*\" * i, end=\"\\n\")\n",
    "        i = i - 1\n",
    "        j = j + 2"
   ]
  },
  {
   "cell_type": "code",
   "execution_count": null,
   "metadata": {},
   "outputs": [],
   "source": []
  }
 ],
 "metadata": {
  "kernelspec": {
   "display_name": "Python 3",
   "language": "python",
   "name": "python3"
  },
  "language_info": {
   "codemirror_mode": {
    "name": "ipython",
    "version": 3
   },
   "file_extension": ".py",
   "mimetype": "text/x-python",
   "name": "python",
   "nbconvert_exporter": "python",
   "pygments_lexer": "ipython3",
   "version": "3.8.5"
  }
 },
 "nbformat": 4,
 "nbformat_minor": 4
}
