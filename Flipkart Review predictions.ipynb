{
 "cells": [
  {
   "cell_type": "markdown",
   "metadata": {},
   "source": [
    "# Flipkart Review Predictions"
   ]
  },
  {
   "cell_type": "code",
   "execution_count": 1,
   "metadata": {
    "id": "eb15e4c1"
   },
   "outputs": [],
   "source": [
    "import numpy as np\n",
    "import pandas as pd\n",
    "import matplotlib.pyplot as plt\n",
    "import seaborn as sns\n",
    "%matplotlib inline"
   ]
  },
  {
   "cell_type": "code",
   "execution_count": 4,
   "metadata": {
    "colab": {
     "base_uri": "https://localhost:8080/",
     "height": 73,
     "resources": {
      "http://localhost:8080/nbextensions/google.colab/files.js": {
       "data": "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",
       "headers": [
        [
         "content-type",
         "application/javascript"
        ]
       ],
       "ok": true,
       "status": 200,
       "status_text": ""
      }
     }
    },
    "id": "KhKYd4iCv1i4",
    "outputId": "d49c8f44-36d4-4564-d99a-6feef685d350"
   },
   "outputs": [
    {
     "data": {
      "text/html": [
       "\n",
       "     <input type=\"file\" id=\"files-80a76a04-cf37-4110-af33-642c2425d185\" name=\"files[]\" multiple disabled\n",
       "        style=\"border:none\" />\n",
       "     <output id=\"result-80a76a04-cf37-4110-af33-642c2425d185\">\n",
       "      Upload widget is only available when the cell has been executed in the\n",
       "      current browser session. Please rerun this cell to enable.\n",
       "      </output>\n",
       "      <script src=\"/nbextensions/google.colab/files.js\"></script> "
      ],
      "text/plain": [
       "<IPython.core.display.HTML object>"
      ]
     },
     "metadata": {},
     "output_type": "display_data"
    },
    {
     "name": "stdout",
     "output_type": "stream",
     "text": [
      "Saving Flipkart_ratings.csv to Flipkart_ratings (2).csv\n"
     ]
    }
   ],
   "source": [
    "from google.colab import files\n",
    "data_to_load = files.upload()"
   ]
  },
  {
   "cell_type": "code",
   "execution_count": 2,
   "metadata": {
    "colab": {
     "base_uri": "https://localhost:8080/",
     "height": 564
    },
    "id": "690749ce",
    "outputId": "a5e026fc-9f27-49e0-9f93-6505e024cfd1"
   },
   "outputs": [
    {
     "data": {
      "text/html": [
       "<div>\n",
       "<style scoped>\n",
       "    .dataframe tbody tr th:only-of-type {\n",
       "        vertical-align: middle;\n",
       "    }\n",
       "\n",
       "    .dataframe tbody tr th {\n",
       "        vertical-align: top;\n",
       "    }\n",
       "\n",
       "    .dataframe thead th {\n",
       "        text-align: right;\n",
       "    }\n",
       "</style>\n",
       "<table border=\"1\" class=\"dataframe\">\n",
       "  <thead>\n",
       "    <tr style=\"text-align: right;\">\n",
       "      <th></th>\n",
       "      <th>marketplace</th>\n",
       "      <th>customer_id</th>\n",
       "      <th>review_id</th>\n",
       "      <th>product_title</th>\n",
       "      <th>product_category</th>\n",
       "      <th>star_rating</th>\n",
       "      <th>helpful_votes</th>\n",
       "      <th>total_votes</th>\n",
       "      <th>vine</th>\n",
       "      <th>verified_purchase</th>\n",
       "      <th>review_headline</th>\n",
       "      <th>review_body</th>\n",
       "      <th>review_date</th>\n",
       "    </tr>\n",
       "  </thead>\n",
       "  <tbody>\n",
       "    <tr>\n",
       "      <th>0</th>\n",
       "      <td>US</td>\n",
       "      <td>41099022</td>\n",
       "      <td>R59VGL4HIPFDP</td>\n",
       "      <td>Foscam FI8910W Wireless/Wired Pan &amp; Tilt IP/Ne...</td>\n",
       "      <td>Camera</td>\n",
       "      <td>1</td>\n",
       "      <td>0</td>\n",
       "      <td>1</td>\n",
       "      <td>N</td>\n",
       "      <td>Y</td>\n",
       "      <td>One Star</td>\n",
       "      <td>garbage</td>\n",
       "      <td>31-08-2015</td>\n",
       "    </tr>\n",
       "    <tr>\n",
       "      <th>1</th>\n",
       "      <td>US</td>\n",
       "      <td>15744366</td>\n",
       "      <td>R3GR0Z9Z4Z1295</td>\n",
       "      <td>Foscam FI8910W Wireless/Wired Pan &amp; Tilt IP/Ne...</td>\n",
       "      <td>Camera</td>\n",
       "      <td>1</td>\n",
       "      <td>0</td>\n",
       "      <td>0</td>\n",
       "      <td>N</td>\n",
       "      <td>N</td>\n",
       "      <td>Doesn't work as advertised</td>\n",
       "      <td>Didn't work as advertised, there was no sound ...</td>\n",
       "      <td>31-08-2015</td>\n",
       "    </tr>\n",
       "    <tr>\n",
       "      <th>2</th>\n",
       "      <td>US</td>\n",
       "      <td>46165193</td>\n",
       "      <td>R8R09HXXQHIWN</td>\n",
       "      <td>Foscam FI8910W Wireless/Wired Pan &amp; Tilt IP/Ne...</td>\n",
       "      <td>Camera</td>\n",
       "      <td>1</td>\n",
       "      <td>0</td>\n",
       "      <td>0</td>\n",
       "      <td>N</td>\n",
       "      <td>Y</td>\n",
       "      <td>One Star</td>\n",
       "      <td>Setup way to complicated for the average user.</td>\n",
       "      <td>30-08-2015</td>\n",
       "    </tr>\n",
       "    <tr>\n",
       "      <th>3</th>\n",
       "      <td>US</td>\n",
       "      <td>31009192</td>\n",
       "      <td>R19JT1LFVNATBG</td>\n",
       "      <td>Foscam FI8910W Wireless/Wired Pan &amp; Tilt IP/Ne...</td>\n",
       "      <td>Camera</td>\n",
       "      <td>5</td>\n",
       "      <td>0</td>\n",
       "      <td>0</td>\n",
       "      <td>N</td>\n",
       "      <td>N</td>\n",
       "      <td>We love the camera but had a lot of difficulty...</td>\n",
       "      <td>We purchased a Foscam about 6 months ago. We l...</td>\n",
       "      <td>30-08-2015</td>\n",
       "    </tr>\n",
       "    <tr>\n",
       "      <th>4</th>\n",
       "      <td>US</td>\n",
       "      <td>52865176</td>\n",
       "      <td>R2SCARC7V2J64P</td>\n",
       "      <td>Foscam FI8910W Wireless/Wired Pan &amp; Tilt IP/Ne...</td>\n",
       "      <td>Camera</td>\n",
       "      <td>2</td>\n",
       "      <td>0</td>\n",
       "      <td>0</td>\n",
       "      <td>N</td>\n",
       "      <td>N</td>\n",
       "      <td>Saved Grandma but camera died after 2 yrs</td>\n",
       "      <td>Worked for 2 yrs as a 'granny cam' and saved h...</td>\n",
       "      <td>29-08-2015</td>\n",
       "    </tr>\n",
       "  </tbody>\n",
       "</table>\n",
       "</div>"
      ],
      "text/plain": [
       "  marketplace  customer_id       review_id  \\\n",
       "0          US     41099022   R59VGL4HIPFDP   \n",
       "1          US     15744366  R3GR0Z9Z4Z1295   \n",
       "2          US     46165193   R8R09HXXQHIWN   \n",
       "3          US     31009192  R19JT1LFVNATBG   \n",
       "4          US     52865176  R2SCARC7V2J64P   \n",
       "\n",
       "                                       product_title product_category  \\\n",
       "0  Foscam FI8910W Wireless/Wired Pan & Tilt IP/Ne...           Camera   \n",
       "1  Foscam FI8910W Wireless/Wired Pan & Tilt IP/Ne...           Camera   \n",
       "2  Foscam FI8910W Wireless/Wired Pan & Tilt IP/Ne...           Camera   \n",
       "3  Foscam FI8910W Wireless/Wired Pan & Tilt IP/Ne...           Camera   \n",
       "4  Foscam FI8910W Wireless/Wired Pan & Tilt IP/Ne...           Camera   \n",
       "\n",
       "   star_rating  helpful_votes  total_votes vine verified_purchase  \\\n",
       "0            1              0            1    N                 Y   \n",
       "1            1              0            0    N                 N   \n",
       "2            1              0            0    N                 Y   \n",
       "3            5              0            0    N                 N   \n",
       "4            2              0            0    N                 N   \n",
       "\n",
       "                                     review_headline  \\\n",
       "0                                           One Star   \n",
       "1                         Doesn't work as advertised   \n",
       "2                                           One Star   \n",
       "3  We love the camera but had a lot of difficulty...   \n",
       "4          Saved Grandma but camera died after 2 yrs   \n",
       "\n",
       "                                         review_body review_date  \n",
       "0                                            garbage  31-08-2015  \n",
       "1  Didn't work as advertised, there was no sound ...  31-08-2015  \n",
       "2     Setup way to complicated for the average user.  30-08-2015  \n",
       "3  We purchased a Foscam about 6 months ago. We l...  30-08-2015  \n",
       "4  Worked for 2 yrs as a 'granny cam' and saved h...  29-08-2015  "
      ]
     },
     "execution_count": 2,
     "metadata": {},
     "output_type": "execute_result"
    }
   ],
   "source": [
    "df = pd.read_csv('Flipkart_ratings.csv')\n",
    "df.head()"
   ]
  },
  {
   "cell_type": "code",
   "execution_count": 3,
   "metadata": {
    "colab": {
     "base_uri": "https://localhost:8080/"
    },
    "id": "4a110725",
    "outputId": "5d033618-3677-4528-c981-d3596f945e4a"
   },
   "outputs": [
    {
     "name": "stdout",
     "output_type": "stream",
     "text": [
      "<class 'pandas.core.frame.DataFrame'>\n",
      "RangeIndex: 4652 entries, 0 to 4651\n",
      "Data columns (total 13 columns):\n",
      " #   Column             Non-Null Count  Dtype \n",
      "---  ------             --------------  ----- \n",
      " 0   marketplace        4652 non-null   object\n",
      " 1   customer_id        4652 non-null   int64 \n",
      " 2   review_id          4652 non-null   object\n",
      " 3   product_title      4652 non-null   object\n",
      " 4   product_category   4652 non-null   object\n",
      " 5   star_rating        4652 non-null   int64 \n",
      " 6   helpful_votes      4652 non-null   int64 \n",
      " 7   total_votes        4652 non-null   int64 \n",
      " 8   vine               4652 non-null   object\n",
      " 9   verified_purchase  4652 non-null   object\n",
      " 10  review_headline    4652 non-null   object\n",
      " 11  review_body        4652 non-null   object\n",
      " 12  review_date        4652 non-null   object\n",
      "dtypes: int64(4), object(9)\n",
      "memory usage: 472.6+ KB\n"
     ]
    }
   ],
   "source": [
    "df.info()"
   ]
  },
  {
   "cell_type": "code",
   "execution_count": 4,
   "metadata": {
    "colab": {
     "base_uri": "https://localhost:8080/",
     "height": 297
    },
    "id": "f0622b38",
    "outputId": "ac3b230f-03f8-47ac-ae7b-92be38d9283c"
   },
   "outputs": [
    {
     "data": {
      "text/html": [
       "<div>\n",
       "<style scoped>\n",
       "    .dataframe tbody tr th:only-of-type {\n",
       "        vertical-align: middle;\n",
       "    }\n",
       "\n",
       "    .dataframe tbody tr th {\n",
       "        vertical-align: top;\n",
       "    }\n",
       "\n",
       "    .dataframe thead th {\n",
       "        text-align: right;\n",
       "    }\n",
       "</style>\n",
       "<table border=\"1\" class=\"dataframe\">\n",
       "  <thead>\n",
       "    <tr style=\"text-align: right;\">\n",
       "      <th></th>\n",
       "      <th>customer_id</th>\n",
       "      <th>star_rating</th>\n",
       "      <th>helpful_votes</th>\n",
       "      <th>total_votes</th>\n",
       "    </tr>\n",
       "  </thead>\n",
       "  <tbody>\n",
       "    <tr>\n",
       "      <th>count</th>\n",
       "      <td>4.652000e+03</td>\n",
       "      <td>4652.000000</td>\n",
       "      <td>4652.000000</td>\n",
       "      <td>4652.000000</td>\n",
       "    </tr>\n",
       "    <tr>\n",
       "      <th>mean</th>\n",
       "      <td>3.042493e+07</td>\n",
       "      <td>4.008169</td>\n",
       "      <td>1.767627</td>\n",
       "      <td>2.535039</td>\n",
       "    </tr>\n",
       "    <tr>\n",
       "      <th>std</th>\n",
       "      <td>1.459990e+07</td>\n",
       "      <td>1.390115</td>\n",
       "      <td>44.011555</td>\n",
       "      <td>46.952126</td>\n",
       "    </tr>\n",
       "    <tr>\n",
       "      <th>min</th>\n",
       "      <td>3.810300e+04</td>\n",
       "      <td>1.000000</td>\n",
       "      <td>0.000000</td>\n",
       "      <td>0.000000</td>\n",
       "    </tr>\n",
       "    <tr>\n",
       "      <th>25%</th>\n",
       "      <td>1.659627e+07</td>\n",
       "      <td>4.000000</td>\n",
       "      <td>0.000000</td>\n",
       "      <td>0.000000</td>\n",
       "    </tr>\n",
       "    <tr>\n",
       "      <th>50%</th>\n",
       "      <td>3.035087e+07</td>\n",
       "      <td>5.000000</td>\n",
       "      <td>0.000000</td>\n",
       "      <td>0.000000</td>\n",
       "    </tr>\n",
       "    <tr>\n",
       "      <th>75%</th>\n",
       "      <td>4.409701e+07</td>\n",
       "      <td>5.000000</td>\n",
       "      <td>0.000000</td>\n",
       "      <td>1.000000</td>\n",
       "    </tr>\n",
       "    <tr>\n",
       "      <th>max</th>\n",
       "      <td>5.309641e+07</td>\n",
       "      <td>5.000000</td>\n",
       "      <td>2131.000000</td>\n",
       "      <td>2269.000000</td>\n",
       "    </tr>\n",
       "  </tbody>\n",
       "</table>\n",
       "</div>"
      ],
      "text/plain": [
       "        customer_id  star_rating  helpful_votes  total_votes\n",
       "count  4.652000e+03  4652.000000    4652.000000  4652.000000\n",
       "mean   3.042493e+07     4.008169       1.767627     2.535039\n",
       "std    1.459990e+07     1.390115      44.011555    46.952126\n",
       "min    3.810300e+04     1.000000       0.000000     0.000000\n",
       "25%    1.659627e+07     4.000000       0.000000     0.000000\n",
       "50%    3.035087e+07     5.000000       0.000000     0.000000\n",
       "75%    4.409701e+07     5.000000       0.000000     1.000000\n",
       "max    5.309641e+07     5.000000    2131.000000  2269.000000"
      ]
     },
     "execution_count": 4,
     "metadata": {},
     "output_type": "execute_result"
    }
   ],
   "source": [
    "df.describe()"
   ]
  },
  {
   "cell_type": "code",
   "execution_count": 5,
   "metadata": {
    "colab": {
     "base_uri": "https://localhost:8080/"
    },
    "id": "avoAjLS68UhL",
    "outputId": "fcd2e905-2fce-471b-8f99-27393591322b"
   },
   "outputs": [
    {
     "data": {
      "text/plain": [
       "(4652, 13)"
      ]
     },
     "execution_count": 5,
     "metadata": {},
     "output_type": "execute_result"
    }
   ],
   "source": [
    "df.shape"
   ]
  },
  {
   "cell_type": "code",
   "execution_count": 6,
   "metadata": {
    "colab": {
     "base_uri": "https://localhost:8080/"
    },
    "id": "442b8099",
    "outputId": "8e655677-fec5-44bc-bc8c-121bf0ee7407"
   },
   "outputs": [
    {
     "data": {
      "text/plain": [
       "marketplace          0\n",
       "customer_id          0\n",
       "review_id            0\n",
       "product_title        0\n",
       "product_category     0\n",
       "star_rating          0\n",
       "helpful_votes        0\n",
       "total_votes          0\n",
       "vine                 0\n",
       "verified_purchase    0\n",
       "review_headline      0\n",
       "review_body          0\n",
       "review_date          0\n",
       "dtype: int64"
      ]
     },
     "execution_count": 6,
     "metadata": {},
     "output_type": "execute_result"
    }
   ],
   "source": [
    "df.isnull().sum()"
   ]
  },
  {
   "cell_type": "code",
   "execution_count": 4,
   "metadata": {
    "colab": {
     "base_uri": "https://localhost:8080/"
    },
    "id": "621450d8",
    "outputId": "6e6cdea3-5768-4fd4-d08f-cc604c6ec6a0"
   },
   "outputs": [
    {
     "data": {
      "text/plain": [
       "0"
      ]
     },
     "execution_count": 4,
     "metadata": {},
     "output_type": "execute_result"
    }
   ],
   "source": [
    "df.duplicated().sum()"
   ]
  },
  {
   "cell_type": "code",
   "execution_count": 5,
   "metadata": {
    "colab": {
     "base_uri": "https://localhost:8080/"
    },
    "id": "9a33f543",
    "outputId": "c7895254-bd47-4485-d819-33d7a3eba377"
   },
   "outputs": [
    {
     "data": {
      "text/plain": [
       "1"
      ]
     },
     "execution_count": 5,
     "metadata": {},
     "output_type": "execute_result"
    }
   ],
   "source": [
    "df['product_title'].nunique()"
   ]
  },
  {
   "cell_type": "code",
   "execution_count": 11,
   "metadata": {
    "colab": {
     "base_uri": "https://localhost:8080/",
     "height": 786
    },
    "id": "967fa2a9",
    "outputId": "08dd5eca-b91d-4d0c-c24d-cbd93c51a382"
   },
   "outputs": [
    {
     "name": "stderr",
     "output_type": "stream",
     "text": [
      "/usr/local/lib/python3.7/dist-packages/seaborn/_decorators.py:43: FutureWarning: Pass the following variables as keyword args: x, y. From version 0.12, the only valid positional argument will be `data`, and passing other arguments without an explicit keyword will result in an error or misinterpretation.\n",
      "  FutureWarning\n"
     ]
    },
    {
     "data": {
      "text/plain": [
       "<matplotlib.axes._subplots.AxesSubplot at 0x7f04fccddd90>"
      ]
     },
     "execution_count": 11,
     "metadata": {},
     "output_type": "execute_result"
    },
    {
     "data": {
      "image/png": "[encoded data removed]",
      "text/plain": [
       "<Figure size 1440x864 with 1 Axes>"
      ]
     },
     "metadata": {
      "needs_background": "light"
     },
     "output_type": "display_data"
    }
   ],
   "source": [
    "plt.figure(figsize=(20,12))\n",
    "sns.violinplot(df['product_title'],df['total_votes'],data=df)"
   ]
  },
  {
   "cell_type": "code",
   "execution_count": 12,
   "metadata": {
    "colab": {
     "base_uri": "https://localhost:8080/",
     "height": 677
    },
    "id": "89de39d1",
    "outputId": "8b6cb139-319b-43ec-cdfb-f8b78cf8671b"
   },
   "outputs": [
    {
     "name": "stderr",
     "output_type": "stream",
     "text": [
      "/usr/local/lib/python3.7/dist-packages/seaborn/_decorators.py:43: FutureWarning: Pass the following variables as keyword args: x, y. From version 0.12, the only valid positional argument will be `data`, and passing other arguments without an explicit keyword will result in an error or misinterpretation.\n",
      "  FutureWarning\n"
     ]
    },
    {
     "data": {
      "text/plain": [
       "<matplotlib.axes._subplots.AxesSubplot at 0x7f04f9808850>"
      ]
     },
     "execution_count": 12,
     "metadata": {},
     "output_type": "execute_result"
    },
    {
     "data": {
      "image/png": "[encoded data removed]",
      "text/plain": [
       "<Figure size 1080x720 with 1 Axes>"
      ]
     },
     "metadata": {
      "needs_background": "light"
     },
     "output_type": "display_data"
    }
   ],
   "source": [
    "plt.figure(figsize=(15,10))\n",
    "sns.barplot(df['star_rating'],df['total_votes'],data=df)"
   ]
  },
  {
   "cell_type": "code",
   "execution_count": 13,
   "metadata": {
    "colab": {
     "base_uri": "https://localhost:8080/",
     "height": 677
    },
    "id": "1e4ae943",
    "outputId": "e709a47a-c2f3-486b-ef82-d3efa7480f49"
   },
   "outputs": [
    {
     "name": "stderr",
     "output_type": "stream",
     "text": [
      "/usr/local/lib/python3.7/dist-packages/seaborn/_decorators.py:43: FutureWarning: Pass the following variables as keyword args: x, y. From version 0.12, the only valid positional argument will be `data`, and passing other arguments without an explicit keyword will result in an error or misinterpretation.\n",
      "  FutureWarning\n"
     ]
    },
    {
     "data": {
      "text/plain": [
       "<matplotlib.axes._subplots.AxesSubplot at 0x7f04fc35dc50>"
      ]
     },
     "execution_count": 13,
     "metadata": {},
     "output_type": "execute_result"
    },
    {
     "data": {
      "image/png": "[encoded data removed]",
      "text/plain": [
       "<Figure size 720x720 with 1 Axes>"
      ]
     },
     "metadata": {
      "needs_background": "light"
     },
     "output_type": "display_data"
    }
   ],
   "source": [
    "plt.figure(figsize=(10,10))\n",
    "sns.lineplot(df['verified_purchase'],df['star_rating'],data=df)"
   ]
  },
  {
   "cell_type": "code",
   "execution_count": 14,
   "metadata": {
    "colab": {
     "base_uri": "https://localhost:8080/",
     "height": 677
    },
    "id": "b5c03080",
    "outputId": "ede9d076-7fd7-4f5d-f896-8f4f664d3a4e"
   },
   "outputs": [
    {
     "name": "stderr",
     "output_type": "stream",
     "text": [
      "/usr/local/lib/python3.7/dist-packages/seaborn/_decorators.py:43: FutureWarning: Pass the following variables as keyword args: x, y. From version 0.12, the only valid positional argument will be `data`, and passing other arguments without an explicit keyword will result in an error or misinterpretation.\n",
      "  FutureWarning\n"
     ]
    },
    {
     "data": {
      "text/plain": [
       "<matplotlib.axes._subplots.AxesSubplot at 0x7f04f9808490>"
      ]
     },
     "execution_count": 14,
     "metadata": {},
     "output_type": "execute_result"
    },
    {
     "data": {
      "image/png": "[encoded data removed]",
      "text/plain": [
       "<Figure size 720x720 with 1 Axes>"
      ]
     },
     "metadata": {
      "needs_background": "light"
     },
     "output_type": "display_data"
    }
   ],
   "source": [
    "plt.figure(figsize=(10,10))\n",
    "sns.lineplot(df['verified_purchase'],df['star_rating'],hue=df['total_votes'],data=df)"
   ]
  },
  {
   "cell_type": "code",
   "execution_count": 15,
   "metadata": {
    "colab": {
     "base_uri": "https://localhost:8080/",
     "height": 786
    },
    "id": "63ba7bc1",
    "outputId": "51d0d31c-4c75-4bc8-bcf6-d925fe0b0e1e"
   },
   "outputs": [
    {
     "name": "stderr",
     "output_type": "stream",
     "text": [
      "/usr/local/lib/python3.7/dist-packages/seaborn/_decorators.py:43: FutureWarning: Pass the following variables as keyword args: x, y. From version 0.12, the only valid positional argument will be `data`, and passing other arguments without an explicit keyword will result in an error or misinterpretation.\n",
      "  FutureWarning\n"
     ]
    },
    {
     "data": {
      "text/plain": [
       "<matplotlib.axes._subplots.AxesSubplot at 0x7f04f90abe10>"
      ]
     },
     "execution_count": 15,
     "metadata": {},
     "output_type": "execute_result"
    },
    {
     "data": {
      "image/png": "[encoded data removed]",
      "text/plain": [
       "<Figure size 1080x864 with 1 Axes>"
      ]
     },
     "metadata": {
      "needs_background": "light"
     },
     "output_type": "display_data"
    }
   ],
   "source": [
    "plt.figure(figsize=(15,12))\n",
    "sns.lineplot(df['helpful_votes'],df['verified_purchase'],data=df)"
   ]
  },
  {
   "cell_type": "code",
   "execution_count": 6,
   "metadata": {
    "id": "1893e397"
   },
   "outputs": [],
   "source": [
    "df['Sentiment'] = [1 if x > 3 else 0 for x in df.star_rating]  #0-negative 1-positive"
   ]
  },
  {
   "cell_type": "code",
   "execution_count": 7,
   "metadata": {
    "colab": {
     "base_uri": "https://localhost:8080/"
    },
    "id": "7nouWUpu1I3i",
    "outputId": "a000054a-ea57-4d5d-e3f3-6e773ac0a027"
   },
   "outputs": [
    {
     "data": {
      "text/plain": [
       "0       0\n",
       "1       0\n",
       "2       0\n",
       "3       1\n",
       "4       0\n",
       "       ..\n",
       "4647    0\n",
       "4648    1\n",
       "4649    1\n",
       "4650    1\n",
       "4651    0\n",
       "Name: Sentiment, Length: 4652, dtype: int64"
      ]
     },
     "execution_count": 7,
     "metadata": {},
     "output_type": "execute_result"
    }
   ],
   "source": [
    "df['Sentiment']"
   ]
  },
  {
   "cell_type": "code",
   "execution_count": 19,
   "metadata": {
    "colab": {
     "base_uri": "https://localhost:8080/",
     "height": 296
    },
    "id": "yr2bO29_1L42",
    "outputId": "7f1d5183-015e-492f-d420-340a45c3d10a"
   },
   "outputs": [
    {
     "data": {
      "text/plain": [
       "<matplotlib.axes._subplots.AxesSubplot at 0x7f04f7846410>"
      ]
     },
     "execution_count": 19,
     "metadata": {},
     "output_type": "execute_result"
    },
    {
     "data": {
      "image/png": "[encoded data removed]",
      "text/plain": [
       "<Figure size 432x288 with 1 Axes>"
      ]
     },
     "metadata": {
      "needs_background": "light"
     },
     "output_type": "display_data"
    }
   ],
   "source": [
    "sns.barplot(x=df['Sentiment'],y=df['star_rating'])"
   ]
  },
  {
   "cell_type": "code",
   "execution_count": 12,
   "metadata": {
    "colab": {
     "base_uri": "https://localhost:8080/"
    },
    "id": "1TTehNAn1rSO",
    "outputId": "7bdae353-131e-4057-a447-ed9fc84bc746"
   },
   "outputs": [
    {
     "name": "stderr",
     "output_type": "stream",
     "text": [
      "[nltk_data] Downloading package stopwords to\n",
      "[nltk_data]     /Users/sanjay_2/nltk_data...\n",
      "[nltk_data]   Package stopwords is already up-to-date!\n"
     ]
    }
   ],
   "source": [
    "import re\n",
    "import nltk\n",
    "\n",
    "nltk.download('stopwords')\n",
    "\n",
    "from nltk.corpus import stopwords\n",
    "from nltk.stem.porter import PorterStemmer\n",
    "ps = PorterStemmer()\n",
    "\n",
    "all_stopwords = stopwords.words('english')\n",
    "all_stopwords.remove('not')"
   ]
  },
  {
   "cell_type": "code",
   "execution_count": 13,
   "metadata": {
    "id": "Ts2EnFdZ8AIE"
   },
   "outputs": [],
   "source": [
    "corpus=[]\n",
    "\n",
    "for i in range(0, 4652):\n",
    "  review = re.sub('[^a-zA-Z]', ' ', df['review_headline'][i])\n",
    "  review = review.lower()\n",
    "  review = review.split()\n",
    "  review = [ps.stem(word) for word in review if not word in set(all_stopwords)]\n",
    "  review = ' '.join(review)\n",
    "  corpus.append(review)"
   ]
  },
  {
   "cell_type": "code",
   "execution_count": 14,
   "metadata": {
    "colab": {
     "base_uri": "https://localhost:8080/"
    },
    "id": "jQQk8n758IKe",
    "outputId": "cb7ed988-c49b-442d-b222-b72cf7ee4545"
   },
   "outputs": [
    {
     "data": {
      "text/plain": [
       "['one star',\n",
       " 'work advertis',\n",
       " 'one star',\n",
       " 'love camera lot difficulti set',\n",
       " 'save grandma camera die yr',\n",
       " 'get pay',\n",
       " 'complet total unreli',\n",
       " 'three star',\n",
       " 'not camera smart easiest setup could',\n",
       " 'four star',\n",
       " 'wake kid night loud click awar',\n",
       " 'not simpl instal',\n",
       " 'great product servic',\n",
       " 'great babi monitor',\n",
       " 'buy newer model want list function',\n",
       " 'work',\n",
       " 'five star',\n",
       " 'great work',\n",
       " 'good product',\n",
       " 'simpli amaz',\n",
       " 'set pain link camera',\n",
       " 'outstand devic servic',\n",
       " 'major flaw sensor',\n",
       " 'carl great help set',\n",
       " 'need littl tech support',\n",
       " 'awesom',\n",
       " 'not window',\n",
       " 'high end hardwar low end softwar interfac exposur unknown third parti',\n",
       " 'set internet connect not easi follow direct close work',\n",
       " 'far good',\n",
       " 'five star',\n",
       " 'fairli decent netowrk camera',\n",
       " 'oustand camera custom servic',\n",
       " 'final set work great foscam screen share comput',\n",
       " 'not buy',\n",
       " 'bad choic problem tenvi',\n",
       " 'good cam',\n",
       " 'disappoint',\n",
       " 'foscam wifi camera babi monitor',\n",
       " 'two star',\n",
       " 'product great job difficult setup',\n",
       " 'good indoor camera',\n",
       " 'five star',\n",
       " 'good',\n",
       " 'tri anoth camera',\n",
       " 'four star',\n",
       " 'not bad setup great valu',\n",
       " 'good',\n",
       " 'decent job tell',\n",
       " 'five star',\n",
       " 'great cam price',\n",
       " 'set not user friendli tech savvi',\n",
       " 'research figur power adapt bad call manufactur ask replac',\n",
       " 'excel',\n",
       " 'five star',\n",
       " 'rd grader could design better softwar howev hardwar seem solid',\n",
       " 'camera work great foscam need work web',\n",
       " 'love capabl camera',\n",
       " 'good camera poor instruct',\n",
       " 'also quit nice log remot take quick look',\n",
       " 'work great sprung hd though instead',\n",
       " 'fantast product last year sinc move',\n",
       " 'servic',\n",
       " 'avoid camera',\n",
       " 'reason not uniti',\n",
       " 'worst product worst support',\n",
       " 'foscam best',\n",
       " 'wast money',\n",
       " 'nice idea tech support aw',\n",
       " 'imposs set internet view',\n",
       " 'great view area monitor though',\n",
       " 'awesom littl cam',\n",
       " 'work great problem one',\n",
       " 'great price',\n",
       " 'five star',\n",
       " 'william foscam amaz job help set camera',\n",
       " 'great except',\n",
       " 'surprisingli solid',\n",
       " 'learn forward port',\n",
       " 'two star',\n",
       " 'fine releas odd',\n",
       " 'one star',\n",
       " 'useless cannot view outsid home',\n",
       " 'support servic remot setup great guy name john help',\n",
       " 'great camera great tech support',\n",
       " 'devin leo great support',\n",
       " 'three star',\n",
       " 'five star',\n",
       " 'disappoint',\n",
       " 'could not happier devic',\n",
       " 'warn not buy',\n",
       " 'great camera great custom servic',\n",
       " 'weekend return basic useless applic',\n",
       " 'four star',\n",
       " 'one star',\n",
       " 'overal camera suck look anoth',\n",
       " 'setup beyond video monitor complic allow',\n",
       " 'night mode great clear',\n",
       " 'five star',\n",
       " 'disappoint',\n",
       " 'two defect unit wifi die less hr',\n",
       " 'five star',\n",
       " 'asid great',\n",
       " 'five star',\n",
       " 'best ip camera',\n",
       " 'five star',\n",
       " 'five star',\n",
       " 'problem power',\n",
       " 'product arriv good shape instal trickier expect',\n",
       " 'good support leo great camera good',\n",
       " 'spend extra money buy newer version',\n",
       " 'get wifi setup work',\n",
       " 'legit cam',\n",
       " 'softwar easi use',\n",
       " 'five star',\n",
       " 'satisfi',\n",
       " 'updat firmwar cannot connect devic via softwar',\n",
       " 'good product difficult set',\n",
       " 'u dont degre dont buy',\n",
       " 'difficult camera ever setup',\n",
       " 'camera great littl tricki set',\n",
       " 'calvin foscam profession patient',\n",
       " 'camera work great pictur nice clear easi move',\n",
       " 'junk',\n",
       " 'buy anoth camera',\n",
       " 'foscam great product even better custom support',\n",
       " 'five star',\n",
       " 'three star',\n",
       " 'great purchas',\n",
       " 'secur alarm eye',\n",
       " 'five star',\n",
       " 'byer bewar',\n",
       " 'video qualiti good tube video help',\n",
       " 'forewarn ridicul difficult set',\n",
       " 'five star',\n",
       " 'wast money',\n",
       " 'difficult remot access',\n",
       " 'rocket scienc',\n",
       " 'tough instal good product valu',\n",
       " 'candid camera',\n",
       " 'terri morgan tech support foscam excel could not get camera connect wirelessli',\n",
       " 'five star',\n",
       " 'not good fi xxx',\n",
       " 'difficult configur',\n",
       " 'stop work',\n",
       " 'mani peopl login',\n",
       " 'softwar poor tech help great',\n",
       " 'fantast ip camera',\n",
       " 'work perfect',\n",
       " 'five star',\n",
       " 'expect secur camera never upgrad firmwar',\n",
       " 'poor frame rate',\n",
       " 'one star',\n",
       " 'five star',\n",
       " 'five star',\n",
       " 'five star',\n",
       " 'five star',\n",
       " 'set camera minut work great thank help',\n",
       " 'five star',\n",
       " 'pretti much type',\n",
       " 'five star',\n",
       " 'came handi less week',\n",
       " 'carlo henderson great job solv problem',\n",
       " 'easi instal work great',\n",
       " 'simpl setup',\n",
       " 'like camera set pretti',\n",
       " 'best valu babi monitor',\n",
       " 'great',\n",
       " 'carl best help great custom servic',\n",
       " 'four star',\n",
       " 'five star',\n",
       " 'one star',\n",
       " 'mani hour cannot figur use noth quick easi product unless work comput',\n",
       " '',\n",
       " 'love camera',\n",
       " 'mani thing make better',\n",
       " 'use babi monitor love use basic web browser interfac',\n",
       " 'superb tecknic support',\n",
       " 'good pictur work well instal set pain instruct not help',\n",
       " 'one star',\n",
       " 'save money difficult setup app unstabl',\n",
       " 'work great even accident spray water',\n",
       " 'meh',\n",
       " 'email motion detect event bad flaw',\n",
       " 'perfect item help lot stop',\n",
       " 'need technic chop make work',\n",
       " 'excel must buy',\n",
       " 'five star',\n",
       " 'work one day quit',\n",
       " 'love camera support',\n",
       " 'glitchi',\n",
       " 'wast money appar',\n",
       " 'horribl',\n",
       " 'great monitor without intrus neighbor',\n",
       " 'great product support',\n",
       " 'brought camera not easi said hook comput',\n",
       " 'fantast product even better support',\n",
       " 'mani featur worth price',\n",
       " 'camera set instal',\n",
       " 'five star',\n",
       " 'far good',\n",
       " 'glorifi web cam',\n",
       " 'complic piec trash',\n",
       " 'webcam great use zonemind',\n",
       " 'great product',\n",
       " 'foscam great valu well worth money piec',\n",
       " 'good camera bad instruct setup',\n",
       " 'camera realli good job video clear audio crisp',\n",
       " 'love camera',\n",
       " 'five star',\n",
       " 'pretti good qualiti',\n",
       " 'fantast custom servic bruce anderson',\n",
       " 'camera support great',\n",
       " 'great support bruce',\n",
       " 'spend extra money get someth better',\n",
       " 'foscam support',\n",
       " 'three star',\n",
       " 'john support team knowledg help',\n",
       " 'five star',\n",
       " 'great qualiti easi manipul',\n",
       " 'expect set custom support great terri morgan',\n",
       " 'great experi satisfactori',\n",
       " 'five star',\n",
       " 'need help instal new camera today',\n",
       " 'superior custom servic leo',\n",
       " 'camera year old still work fine complic setup',\n",
       " 'bad softwar',\n",
       " 'also light come pass len everyth get wash horribl',\n",
       " 'great product',\n",
       " 'complic',\n",
       " 'nice camera program issu',\n",
       " 'buy differ compani regret',\n",
       " 'great camera money',\n",
       " 'foscam fi instal tech support great',\n",
       " 'thank taken time write',\n",
       " 'great camera fairli easi set',\n",
       " 'cam easi set clariti super clear',\n",
       " 'great camera excel support',\n",
       " 'impress nice work',\n",
       " 'great servic bruce',\n",
       " 'gift purchas',\n",
       " 'secur risk word wise',\n",
       " 'foscam secur camera german shepherd quiet home front',\n",
       " 'one star',\n",
       " 'not happi',\n",
       " 'not good qualiti imag poor',\n",
       " 'love camera glitch howev',\n",
       " 'issu includ setup step',\n",
       " 'like tonz',\n",
       " 'great camera not easi setup',\n",
       " 'five star',\n",
       " 'work fine use motion detector indoor',\n",
       " 'great remot camera',\n",
       " 'great camera custom servic',\n",
       " 'work router without pay monthli fee',\n",
       " 'cam work',\n",
       " 'worth money',\n",
       " 'highli recommend foscam camera technic support group',\n",
       " 'wast money',\n",
       " 'two star',\n",
       " 'best product ever purchas',\n",
       " 'excel camera',\n",
       " 'camera work perfect anyon want basic secur system',\n",
       " 'nice great price',\n",
       " 'awar overheat probelm continu work',\n",
       " 'watch',\n",
       " 'one best secur devic purchas without hard wire',\n",
       " 'custom support',\n",
       " 'good price',\n",
       " 'good valu',\n",
       " 'four star',\n",
       " 'star',\n",
       " 'price need almost perfect ir led super bright',\n",
       " 'decent camera not buy',\n",
       " 'work lan',\n",
       " 'great product',\n",
       " 'use model sent frustrat',\n",
       " 'good camera problem setup',\n",
       " 'work fine sever set email',\n",
       " 'work well use use town',\n",
       " 'five star',\n",
       " 'excel job help get foscam work',\n",
       " 'five star',\n",
       " 'great buy',\n",
       " 'camera work great',\n",
       " 'five star',\n",
       " 'want get camera babi monitor work great couldnt happier',\n",
       " 'five star',\n",
       " 'four star',\n",
       " 'edward martinez amaz help diagnos softwar problem',\n",
       " 'work great upgrad pc',\n",
       " 'nice pan tilt camera price fix camera',\n",
       " 'work great even year usag',\n",
       " 'ok camera great support',\n",
       " 'way complic buy',\n",
       " 'four star',\n",
       " 'calvin excel job help set foscam camera',\n",
       " 'five star',\n",
       " 'five star',\n",
       " 'henri cambel purchas camera work',\n",
       " 'cool item',\n",
       " 'five star',\n",
       " 'love camera',\n",
       " 'excel tech support',\n",
       " 'three star',\n",
       " 'foscam make great camera',\n",
       " 'reason product price',\n",
       " 'babi video monitor',\n",
       " 'four star',\n",
       " 'one star',\n",
       " 'view away lan',\n",
       " 'five star',\n",
       " 'three star',\n",
       " 'difficult setup',\n",
       " 'great camera requir littl support bet foscom',\n",
       " 'foscam custom support help effici',\n",
       " 'ok ms comput scienc',\n",
       " 'bought march still work great march',\n",
       " 'thought camera would better price thought would',\n",
       " 'work perfect wish go',\n",
       " 'setup huge pain',\n",
       " 'work great take littl comput know set',\n",
       " 'great hardwar great price',\n",
       " 'four star',\n",
       " 'easi access clariti',\n",
       " 'great product definit recommend',\n",
       " 'lot price',\n",
       " 'awesom',\n",
       " 'great camera',\n",
       " 'wast money',\n",
       " 'great valu reliabl work well',\n",
       " 'five star',\n",
       " 'give star tech support',\n",
       " 'littl troubl set not bad',\n",
       " 'great custom servic',\n",
       " 'great product realli easi set',\n",
       " 'pictur good pan tilt good',\n",
       " 'faulti camera',\n",
       " 'wast money not recommend',\n",
       " 'return not',\n",
       " 'awesom camera even better price',\n",
       " 'decent camera easi setup',\n",
       " 'seem like good camera',\n",
       " 'great product love',\n",
       " 'exactli need',\n",
       " 'devin leo great integr easili iphon app',\n",
       " 'happi camera price',\n",
       " 'five star',\n",
       " 'good camera difficult set',\n",
       " 'great hardwar expect view away home without anoth invest',\n",
       " 'good hardwar crap softwar ruin experi',\n",
       " 'five star',\n",
       " 'instal setup somewhat tediou camera need reboot setup',\n",
       " 'good camera',\n",
       " 'foscam good',\n",
       " 'nightvis great wish firmwar updat',\n",
       " 'five star',\n",
       " 'not buy camera',\n",
       " 'three star',\n",
       " 'crap drive mad tri set',\n",
       " 'good far',\n",
       " 'foscam support suck',\n",
       " 'access comput smart phone not buy especi price',\n",
       " 'access cam network',\n",
       " 'three star',\n",
       " 'forth camera like',\n",
       " 'best babi monitor',\n",
       " 'great camera',\n",
       " 'four star',\n",
       " 'good camera poor app',\n",
       " 'set wifi mode tri mani time',\n",
       " 'not impress',\n",
       " 'foscaam great foscam tech carl set complic port',\n",
       " 'return',\n",
       " 'great valu cam',\n",
       " 'pan tilt featur use use camera remot',\n",
       " 'satisfi also product',\n",
       " 'wast time',\n",
       " 'great product potenti suicid induc instal',\n",
       " 'two star',\n",
       " 'excel custom servic',\n",
       " 'worri',\n",
       " 'one star',\n",
       " 'five star',\n",
       " 'work well problem far',\n",
       " 'easi instal great custom servic',\n",
       " 'not worth time',\n",
       " 'oper rel simpl easi control mobil',\n",
       " 'great camera full set featur',\n",
       " 'sent back',\n",
       " 'experi transact foscam product repres exce star',\n",
       " 'great get work',\n",
       " 'not worth headach',\n",
       " 'five star',\n",
       " 'three star',\n",
       " 'great product custom support help',\n",
       " 'continu work ill continu buy product compani',\n",
       " 'three star',\n",
       " 'five star',\n",
       " 'get work properti would',\n",
       " 'good paper weight',\n",
       " 'assist set cam witch awesom',\n",
       " 'four star',\n",
       " 'not bad buy price',\n",
       " 'five star',\n",
       " 'hi re today standard great toy possibl',\n",
       " 'christoph help setup need',\n",
       " 'five star',\n",
       " 'five star',\n",
       " 'use camera two year still good work condit',\n",
       " 'foscam great product recommend friend famili',\n",
       " 'not easiest setup excel custom support help configur devic remot',\n",
       " 'walter tech support amaz help set new camera',\n",
       " 'meh',\n",
       " 'five star',\n",
       " 'buy foscam monitor anyth import use monitor garden',\n",
       " 'excel servic technician custom christoph camera',\n",
       " 'imagin would realli enjoy camera not problem',\n",
       " 'five star',\n",
       " 'good camera tri get',\n",
       " 'robot camera indoor use',\n",
       " 'two star',\n",
       " 'john support great abl help get everyth',\n",
       " 'great one singl flaw realli need address',\n",
       " 'date softwar',\n",
       " 'excel custom support',\n",
       " 'great job thank',\n",
       " 'mr edward awesom great',\n",
       " 'five star',\n",
       " 'kenneth thompson satisfi servic provid foscam support team',\n",
       " 'work great instal',\n",
       " 'four star',\n",
       " 'low fp good camera',\n",
       " 'one star',\n",
       " 'five star',\n",
       " 'pretti happi',\n",
       " 'broke month',\n",
       " 'user unfriendli',\n",
       " 'one star',\n",
       " 'best option babi monitor',\n",
       " 'perfect kid',\n",
       " 'great custom servic',\n",
       " 'excel camera sometim technic setup littl',\n",
       " 'spoke tina gonzalez great experi profession extrem help',\n",
       " 'technic support super',\n",
       " 'not recommend anyon buy product foscam come',\n",
       " 'three star',\n",
       " 'love camera',\n",
       " 'technic support',\n",
       " 'secur web cam',\n",
       " 'exel ip camera',\n",
       " 'love camera',\n",
       " 'five star',\n",
       " 'camera work good pictur qualiti good',\n",
       " 'support team foscam great christoph help audio problem',\n",
       " 'best wireless camera money',\n",
       " 'awesom find problem',\n",
       " 'good camera price',\n",
       " 'exeed expect eas instal perform',\n",
       " 'great support',\n",
       " 'foscam fi w pan tilt ip network stop work two month',\n",
       " 'custom servic foscam star',\n",
       " 'five star',\n",
       " 'set product review',\n",
       " 'disconnect lot difficult set',\n",
       " 'five star',\n",
       " 'excel pan wireless camera',\n",
       " 'not work',\n",
       " 'instruct manual poorli written advertis ip camera',\n",
       " 'price favor not wast time',\n",
       " 'camera broke year unrespons custom servic',\n",
       " 'tech savvi',\n",
       " 'buy product not great camera tech support like christoph make',\n",
       " 'foscam set',\n",
       " 'not disappoint',\n",
       " 'foscam custom support awesom',\n",
       " 'not recommend',\n",
       " 'work major time',\n",
       " 'great servic alway call foscam',\n",
       " 'wireless',\n",
       " 'everyth fine',\n",
       " 'love camera',\n",
       " 'four star',\n",
       " 'sever scatter work great',\n",
       " 'awesom camera',\n",
       " 'easi set',\n",
       " 'bad instruct terribl english challang support ridicul hard setup',\n",
       " 'end work',\n",
       " 'connect synolog surveil system instead port forward nice workaround video qualiti ok pur',\n",
       " 'work wonder',\n",
       " 'great babi monitor',\n",
       " 'work decent well',\n",
       " 'easili hack not even funni',\n",
       " 'love work night vision',\n",
       " 'third foscam f w',\n",
       " 'work ok',\n",
       " 'sinc not tech savi',\n",
       " 'one star',\n",
       " 'five star',\n",
       " 'great first tech guy get work',\n",
       " 'best invest parent peac mind',\n",
       " 'expect technic support team easi go dilig',\n",
       " 'perfect babi monitor monitor home',\n",
       " 'great pain set',\n",
       " 'complic',\n",
       " 'not worth money',\n",
       " 'five star',\n",
       " 'five star',\n",
       " 'well done foscam best support ever',\n",
       " 'five star',\n",
       " 'five star',\n",
       " 'success gift',\n",
       " 'work great problem experienc',\n",
       " 'great babi monitor',\n",
       " 'five star',\n",
       " 'far good need phone setup',\n",
       " 'great setup via servic call',\n",
       " 'five star',\n",
       " 'awesom',\n",
       " 'five star',\n",
       " 'great servic calvin foscam technic support',\n",
       " '',\n",
       " 'best ip camera ever own',\n",
       " 'not user friendli worst user instruct',\n",
       " 'good valu overal',\n",
       " 'thde compani renew site certif',\n",
       " 'easi set',\n",
       " 'work expect happi result',\n",
       " 'great cam price',\n",
       " 'great camera',\n",
       " 'nice fun work',\n",
       " 'easi set',\n",
       " 'done work like champ',\n",
       " 'bang buck',\n",
       " 'great babi monitor',\n",
       " 'five star',\n",
       " 'best market price',\n",
       " 'great price',\n",
       " 'great babi want use',\n",
       " 'recommend',\n",
       " 'smart man',\n",
       " 'camera work good great support staff',\n",
       " 'poorli advertis simpl set',\n",
       " 'five star',\n",
       " 'stop work',\n",
       " 'one star',\n",
       " 'love camera',\n",
       " 'great camera issu setup recommend babi monitor return dropcam',\n",
       " 'love set home super easi',\n",
       " 'camera work great',\n",
       " 'job great inexpens camera',\n",
       " 'great product',\n",
       " 'setup easi know network',\n",
       " 'great price set camera via ethernet cabl',\n",
       " 'cheap option home monitor job frill',\n",
       " 'two star',\n",
       " 'set properli work promis read instruct thoroughli first watch video requir static ip view',\n",
       " 'tech support non work camera',\n",
       " 'obvious review zero',\n",
       " 'good product rel easi set',\n",
       " 'three foscam camera purchas excel detail pan',\n",
       " 'not user friendli cheap worth',\n",
       " 'good camera difficult setup',\n",
       " 'limit function',\n",
       " 'mac friendli easi instal great pictur qualiti',\n",
       " 'highli recommend',\n",
       " 'two star',\n",
       " 'never connect wireless',\n",
       " 'terribl interfac familiar ip adress',\n",
       " 'vid qualiti good setup bit tediou',\n",
       " 'like rotat camera comput',\n",
       " 'bad product',\n",
       " 'four star',\n",
       " 'foscam camera sever year excel luck purchas',\n",
       " 'not plug play',\n",
       " 'nice result',\n",
       " 'not happi',\n",
       " 'verg good',\n",
       " 'great camera',\n",
       " 'easi setup excel valu',\n",
       " 'five star',\n",
       " 'overal need',\n",
       " 'first ip camera work expect',\n",
       " 'decent straightforward',\n",
       " 'otherwis great',\n",
       " 'happi custom',\n",
       " 'one star',\n",
       " 'five star',\n",
       " 'work better expect',\n",
       " 'great',\n",
       " 'horribl instruct follow step step camera',\n",
       " 'roy knew exactli everyth work great thank roy',\n",
       " 'great job well done',\n",
       " 'four star',\n",
       " 'work bad user experi gener',\n",
       " 'five star',\n",
       " 'like rocket surgeri',\n",
       " 'custom servic terribl',\n",
       " 'foscam noscam camera work wonder',\n",
       " 'decent camera bad tech support',\n",
       " 'frustrat',\n",
       " 'hate product',\n",
       " 'foscam custom terrif roy martin abl remot access',\n",
       " 'best camera money',\n",
       " 'bought one believ camera work great littl troubl set',\n",
       " 'five star',\n",
       " 'five star',\n",
       " 'spend buy better camera',\n",
       " 'make sure secur camera otherwis excel',\n",
       " 'upgrad bit better perform',\n",
       " 'work great well lit area',\n",
       " 'good starter camera poor color reason ir perform',\n",
       " 'great product price',\n",
       " 'foscam best privat owner not busi camera',\n",
       " 'five star',\n",
       " 'took littl bit get set work right figur work fine',\n",
       " 'hard use',\n",
       " 'help get everyth excel work',\n",
       " 'terrif custom servic',\n",
       " 'wast money',\n",
       " 'four star',\n",
       " 'good far',\n",
       " 'great camera pan tilt function nice control',\n",
       " 'good camera pita setup',\n",
       " 'great product would like better android app',\n",
       " 'audio support web app camera rang terribl',\n",
       " 'glad camera',\n",
       " 'great camera money',\n",
       " 'five star',\n",
       " 'nice camera setup not straight forward',\n",
       " 'five star',\n",
       " 'great nanni doggi cam',\n",
       " 'disappoint',\n",
       " 'like sit read bunch direct',\n",
       " 'good camera need person work right',\n",
       " 'nice ip camera not easi setup',\n",
       " 'ok not great',\n",
       " 'work great setup cumbersom goo camera',\n",
       " 'two star',\n",
       " 'three star',\n",
       " 'roy martin good thank',\n",
       " 'great product everyth work',\n",
       " 'charl meyer life saver',\n",
       " 'buy brand name',\n",
       " 'best support help ever',\n",
       " 'difficukt set mire importantli',\n",
       " 'call foscam support mat nice helfp',\n",
       " 'camera neither',\n",
       " 'challeng setup',\n",
       " 'roy martin great job help setup friendli compani',\n",
       " 'five star',\n",
       " 'not hard glad know pro',\n",
       " 'five star',\n",
       " 'good not great job price deserv star',\n",
       " 'great indoor ip cam money',\n",
       " 'one star',\n",
       " 'three star',\n",
       " 'see everyth',\n",
       " 'four star',\n",
       " 'not want spend much found one easi set work great',\n",
       " 'five star',\n",
       " 'use babi monitor great much cheaper regular video monitor',\n",
       " 'troubl load camera onto pc',\n",
       " 'great help',\n",
       " 'good camera complic firmwar updat led headach',\n",
       " 'hardwar work load',\n",
       " 'four star',\n",
       " 'five star',\n",
       " 'great camera setup difficult',\n",
       " 'work great',\n",
       " 'five star',\n",
       " 'five star',\n",
       " 'three star',\n",
       " 'price cannot beat',\n",
       " 'difficult set worth effort',\n",
       " 'five star',\n",
       " 'camera work well job instruct',\n",
       " 'return item not work',\n",
       " 'cheapest fo cam avail super impress use babi monitor',\n",
       " 'perfect ip camera',\n",
       " 'two other model work like',\n",
       " 'five star',\n",
       " 'support provid foscam compani awesom guy name roy martin spend almost spend',\n",
       " 'kitti cam',\n",
       " 'great',\n",
       " 'not reliabl set motion sens',\n",
       " 'five star',\n",
       " 'better',\n",
       " 'five star',\n",
       " 'review way get rid thing review list write review',\n",
       " 'great pictur qualiti glitch much',\n",
       " 'awesom camera',\n",
       " 'three star',\n",
       " 'camera overal good watch dog insid',\n",
       " 'five star',\n",
       " 'decent camera job buy better one futur',\n",
       " 'bought camera month ago felt like give review',\n",
       " 'great product great price',\n",
       " 'five star',\n",
       " 'five star',\n",
       " 'good valu',\n",
       " 'buy newer model',\n",
       " 'product give excel pictur qualiti movement without jerki addit nois',\n",
       " 'five star',\n",
       " 'receiv christma highli recommend buy someth els',\n",
       " 'camera',\n",
       " 'crap total crap',\n",
       " 'pic qualiti awesom even dark',\n",
       " 'beauti wrap new condit',\n",
       " 'good',\n",
       " 'great camera good pictur qualiti',\n",
       " 'avoid product altogeth',\n",
       " 'probabl better one',\n",
       " 'four star',\n",
       " 'get way better imag qualiti money cam',\n",
       " 'great work could not done without',\n",
       " 'camera tech awesom',\n",
       " 'great babi monitor',\n",
       " 'far love camera',\n",
       " 'great camera especi price',\n",
       " 'not bad cam use sinc aug even',\n",
       " 'older version great price',\n",
       " 'great tech support',\n",
       " 'five star',\n",
       " 'great camera price',\n",
       " 'roy martin foscam support help port',\n",
       " 'difficult program wireless need',\n",
       " 'realli good money good tech support',\n",
       " 'five star',\n",
       " 'great cam',\n",
       " 'realli like product',\n",
       " 'roy martin amaz patient',\n",
       " 'forget chang default password',\n",
       " 'good tech support',\n",
       " 'tech support suck wait minut speak',\n",
       " 'great camera easi instal figur',\n",
       " 'get go great',\n",
       " 'awesom camera',\n",
       " 'five star',\n",
       " 'five star',\n",
       " 'camera foscam difficult hook wirelessli',\n",
       " 'camera instal',\n",
       " 'work great',\n",
       " 'not worth anyth',\n",
       " 'blahh',\n",
       " 'good buy work expect',\n",
       " 'must say product great knowledg custom support team',\n",
       " 'great featur home',\n",
       " 'great camera price',\n",
       " 'buy anoth brand add add android softwar',\n",
       " 'love ip cam',\n",
       " 'five star',\n",
       " 'great',\n",
       " 'disgust firmwar poorli written look like someth put togeth week',\n",
       " 'good product good seller',\n",
       " 'love bought check',\n",
       " 'one star',\n",
       " 'camera hardwar good howev problem come user manual',\n",
       " 'alarm figur great deal',\n",
       " 'five star',\n",
       " 'work advertis pic fairli clear',\n",
       " 'five star',\n",
       " 'great tech support',\n",
       " 'like camera pan tilt built',\n",
       " 'big brother watch',\n",
       " 'good product',\n",
       " 'good valu ip camera',\n",
       " 'larg crib',\n",
       " 'camera great seen camera qualiti',\n",
       " 'work great easi instal easi phone access',\n",
       " 'help set camera everyth work great',\n",
       " 'never get set right',\n",
       " 'not buy',\n",
       " 'fi w',\n",
       " 'great camera',\n",
       " 'work perfect tenvi boy tenvi',\n",
       " 'excel ip camera price work great wi fi local via internet anywher world',\n",
       " 'great camera great price',\n",
       " 'roy martin',\n",
       " 'pretti simpl port forward',\n",
       " 'two star',\n",
       " 'three star',\n",
       " 'nice set',\n",
       " 'great product',\n",
       " 'four star',\n",
       " 'recent purchas foscam camera model f w',\n",
       " 'great indoor ip camera monitor traffic',\n",
       " 'happi foscam camera purchas price',\n",
       " 'tech support help howev feel',\n",
       " 'awesom call polit',\n",
       " 'easi setup use',\n",
       " 'five star',\n",
       " 'frustrat',\n",
       " 'good camera folk work appl',\n",
       " 'wire set easi howev attempt connect wirelessli',\n",
       " 'help technician littl tricki',\n",
       " 'five star',\n",
       " 'great item love',\n",
       " 'realli nice especi static ip',\n",
       " 'camera fine except not compat',\n",
       " 'excel qualiti imag nice remot access featur',\n",
       " 'two star',\n",
       " 'hit miss camera support',\n",
       " 'excel product read mani bad review',\n",
       " 'happi',\n",
       " 'easi setup local network',\n",
       " 'exel camera great custom servic',\n",
       " 'four star',\n",
       " 'save money',\n",
       " 'camera work great expect chang password',\n",
       " 'great help thank much',\n",
       " 'five star',\n",
       " 'five star',\n",
       " 'reason price good video hard setup softwar',\n",
       " 'love camera thank much eric',\n",
       " 'work good',\n",
       " 'ok spend dollar better one',\n",
       " 'easili keep tab kid',\n",
       " 'great product',\n",
       " 'keep call support fix take time patient',\n",
       " 'sure work app internet outsid home network area',\n",
       " 'work great setup minut',\n",
       " 'foscam die month connect',\n",
       " 'four star',\n",
       " 'must parent',\n",
       " 'leo best custom tech support',\n",
       " 'great',\n",
       " 'good cheap secur cam',\n",
       " 'job requir good amount technolog savvi',\n",
       " 'aldrin britto tech support foscam help',\n",
       " 'good camera best reli tech support navig set',\n",
       " 'three star',\n",
       " 'unless tech geek',\n",
       " 'great camera hard set',\n",
       " 'three star',\n",
       " 'one star',\n",
       " 'lot issu work',\n",
       " 'tough use',\n",
       " 'five star',\n",
       " 'nice camera video qualiti good',\n",
       " 'advertis get firmwar updat product agre get spam email pretti muc',\n",
       " 'five star',\n",
       " 'good product',\n",
       " 'neither product compani deserv money',\n",
       " 'custom servic rep tina gonzal prevent return camera got run',\n",
       " 'good job four month replac camera',\n",
       " 'awesom ptz',\n",
       " 'great secur without pay someon',\n",
       " 'not buy',\n",
       " 'good camera good price easi follow instal instruct',\n",
       " 'foscam leav high dri',\n",
       " 'nice network camera low price',\n",
       " 'great camera',\n",
       " 'great camera great custom support',\n",
       " 'lack http',\n",
       " 'job well',\n",
       " 'horribl camera set',\n",
       " 'good critic review found techsmash site',\n",
       " 'five star',\n",
       " 'work low end ptz camera driver',\n",
       " 'foscam smoshcam',\n",
       " 'two star',\n",
       " 'great product great tech support',\n",
       " 'pictur clear low light mode great softwar could better',\n",
       " 'nice idea work',\n",
       " 'work great third lost power suppli',\n",
       " 'wors product technic support ever',\n",
       " 'great purchas wish could play video back',\n",
       " 'sh camera not buy',\n",
       " 'terrif pictur',\n",
       " '',\n",
       " 'four star',\n",
       " 'sometim work sometim',\n",
       " 'thank william painstakingli help instal new',\n",
       " 'cheap good',\n",
       " 'great first camera',\n",
       " 'five star',\n",
       " 'piec mind',\n",
       " 'easi enough set',\n",
       " 'nice check babi sleep',\n",
       " 'pretti decent',\n",
       " 'omg love love love camera',\n",
       " 'product exactli say initi set',\n",
       " 'four star',\n",
       " 'camera work great setup bit difficult get port',\n",
       " 'five star',\n",
       " 'good indoor ip webcam wireless quirk',\n",
       " 'appear junk',\n",
       " 'easi setup',\n",
       " 'come time feel like idiot',\n",
       " 'good not asi use',\n",
       " 'buy slightli expens p edit',\n",
       " 'calvin excel',\n",
       " 'one star',\n",
       " 'hard set work flawlessli',\n",
       " 'great basic function probabl worth get fi xxx instead though',\n",
       " 'work great not come phone app setup take',\n",
       " 'work great instruct come packag',\n",
       " 'great camera price',\n",
       " 'return two issu',\n",
       " 'good clear pic send pic',\n",
       " 'pictur qualiti not great due p',\n",
       " 'four star',\n",
       " 'five star',\n",
       " 'not recommend',\n",
       " 'foscam way go ptz wifi',\n",
       " 'eric hill awesom help set two remot camera',\n",
       " 'technic savvi instal set otherwis give pass',\n",
       " 'custom servic good',\n",
       " 'five star',\n",
       " 'five star',\n",
       " 'good ip cam connect issu',\n",
       " 'not quit work yet',\n",
       " 'perfect product thank',\n",
       " 'five star',\n",
       " 'like',\n",
       " 'two star',\n",
       " 'one star',\n",
       " 'nice camera',\n",
       " 'five star',\n",
       " 'realli like littl camera',\n",
       " 'good starter camera',\n",
       " 'instal one camera addit instal easi technic support need',\n",
       " 'four star',\n",
       " 'five star',\n",
       " 'doa least amazon quick process return',\n",
       " 'excel',\n",
       " 'rubber coat becom sticki year',\n",
       " 'work realli nice two',\n",
       " 'great camera',\n",
       " 'think great camera price',\n",
       " 'great valu current firmwar oct solid pan tilt ir',\n",
       " 'disappoint point time',\n",
       " 'realli like camera',\n",
       " 'good ip cam rang',\n",
       " 'better camera',\n",
       " 'great camera bit pain set',\n",
       " 'five star',\n",
       " 'tech support calvin harri excel guid step step',\n",
       " 'four star',\n",
       " 'five star',\n",
       " 'not plug play cannot use useless get work',\n",
       " 'four star',\n",
       " 'good camera hard program',\n",
       " 'easi set great support need',\n",
       " 'like qualiti ptz',\n",
       " 'check foscam support forum buy problem shake stick glad na',\n",
       " 'excel servic',\n",
       " 'great product except custom servic',\n",
       " 'work great babi monitor',\n",
       " 'spi',\n",
       " 'five star',\n",
       " 'five star',\n",
       " 'great camera setup quick easi',\n",
       " 'receiv camera quickli easi set assist',\n",
       " 'stay connect day',\n",
       " 'call terri morgan tech support great took remot control comput',\n",
       " 'five star',\n",
       " 'addit camera',\n",
       " 'cannot connect wireless network total useless chang frequenc band encrypt etc',\n",
       " 'five star',\n",
       " 'nice call assist set',\n",
       " 'great technic support',\n",
       " 'see day night',\n",
       " 'one star',\n",
       " 'good',\n",
       " 'five star',\n",
       " 'great camera use custom support repres mark',\n",
       " 'overal good camera great price',\n",
       " 'even though work good',\n",
       " 'foscom setup issu',\n",
       " 'five star',\n",
       " 'job monitor children wow talk custom servic',\n",
       " 'good custom servic updat',\n",
       " 'five star',\n",
       " 'ok not thrill',\n",
       " 'updat review',\n",
       " 'good product price',\n",
       " 'troubl instal comput',\n",
       " 'five star',\n",
       " 'great product',\n",
       " 'five star',\n",
       " 'instruct terribl custom support terribl',\n",
       " 'perfect true color display camera',\n",
       " 'realli like camera far',\n",
       " 'max work foscam compani help',\n",
       " 'five star',\n",
       " 'josh sander foscam wonder great help set',\n",
       " 'calvin foscam technic support great patient',\n",
       " 'forget foscam',\n",
       " 'happi custom thank',\n",
       " 'pretti tech savvi',\n",
       " 'good troubl shoot',\n",
       " 'camera clean clear pictur better color represent other',\n",
       " 'excel product custom servic great',\n",
       " 'two star',\n",
       " 'mark went beyond make sure evryth work perfect question answer',\n",
       " '',\n",
       " 'five star',\n",
       " 'five star',\n",
       " ...]"
      ]
     },
     "execution_count": 14,
     "metadata": {},
     "output_type": "execute_result"
    }
   ],
   "source": [
    "corpus"
   ]
  },
  {
   "cell_type": "markdown",
   "metadata": {
    "id": "c6wnLrgU8pLJ"
   },
   "source": [
    "Data Transformation"
   ]
  },
  {
   "cell_type": "code",
   "execution_count": 15,
   "metadata": {
    "id": "Dtk2Iht08vcH"
   },
   "outputs": [],
   "source": [
    "from sklearn.feature_extraction.text import CountVectorizer\n",
    "cv = CountVectorizer(max_features = 2328820)"
   ]
  },
  {
   "cell_type": "code",
   "execution_count": 16,
   "metadata": {
    "id": "s7rY4DO68y6F"
   },
   "outputs": [],
   "source": [
    "X = cv.fit_transform(corpus).toarray()\n",
    "y = df['Sentiment'].values"
   ]
  },
  {
   "cell_type": "code",
   "execution_count": 17,
   "metadata": {
    "id": "T7ZNkJ-j9FQd"
   },
   "outputs": [],
   "source": [
    "import pickle\n",
    "bow_path = open('c1_BoW_Sentiment_Model.pkl','wb')\n",
    "pickle.dump(cv, bow_path)"
   ]
  },
  {
   "cell_type": "code",
   "execution_count": 80,
   "metadata": {
    "colab": {
     "base_uri": "https://localhost:8080/",
     "height": 17
    },
    "id": "9SCnoruCaIBa",
    "outputId": "b8d39344-0b3d-44f1-b4e3-87c6b375f0f7"
   },
   "outputs": [
    {
     "data": {
      "application/javascript": [
       "\n",
       "    async function download(id, filename, size) {\n",
       "      if (!google.colab.kernel.accessAllowed) {\n",
       "        return;\n",
       "      }\n",
       "      const div = document.createElement('div');\n",
       "      const label = document.createElement('label');\n",
       "      label.textContent = `Downloading \"${filename}\": `;\n",
       "      div.appendChild(label);\n",
       "      const progress = document.createElement('progress');\n",
       "      progress.max = size;\n",
       "      div.appendChild(progress);\n",
       "      document.body.appendChild(div);\n",
       "\n",
       "      const buffers = [];\n",
       "      let downloaded = 0;\n",
       "\n",
       "      const channel = await google.colab.kernel.comms.open(id);\n",
       "      // Send a message to notify the kernel that we're ready.\n",
       "      channel.send({})\n",
       "\n",
       "      for await (const message of channel.messages) {\n",
       "        // Send a message to notify the kernel that we're ready.\n",
       "        channel.send({})\n",
       "        if (message.buffers) {\n",
       "          for (const buffer of message.buffers) {\n",
       "            buffers.push(buffer);\n",
       "            downloaded += buffer.byteLength;\n",
       "            progress.value = downloaded;\n",
       "          }\n",
       "        }\n",
       "      }\n",
       "      const blob = new Blob(buffers, {type: 'application/binary'});\n",
       "      const a = document.createElement('a');\n",
       "      a.href = window.URL.createObjectURL(blob);\n",
       "      a.download = filename;\n",
       "      div.appendChild(a);\n",
       "      a.click();\n",
       "      div.remove();\n",
       "    }\n",
       "  "
      ],
      "text/plain": [
       "<IPython.core.display.Javascript object>"
      ]
     },
     "metadata": {},
     "output_type": "display_data"
    },
    {
     "data": {
      "application/javascript": [
       "download(\"download_f355c608-85cc-45d2-b08f-897887c94883\", \"c1_BoW_Sentiment_Model.pkl\", 70387)"
      ],
      "text/plain": [
       "<IPython.core.display.Javascript object>"
      ]
     },
     "metadata": {},
     "output_type": "display_data"
    }
   ],
   "source": [
    "from google.colab import files\n",
    "files.download('c1_BoW_Sentiment_Model.pkl')"
   ]
  },
  {
   "cell_type": "code",
   "execution_count": 18,
   "metadata": {
    "id": "utxgXY9P9Jpn"
   },
   "outputs": [],
   "source": [
    "from sklearn.model_selection import train_test_split\n",
    "X_train, X_test, y_train, y_test = train_test_split(X, y, test_size = 0.20, random_state = 0)"
   ]
  },
  {
   "cell_type": "code",
   "execution_count": 66,
   "metadata": {
    "id": "KALNCp6fDiX9"
   },
   "outputs": [],
   "source": []
  },
  {
   "cell_type": "markdown",
   "metadata": {
    "id": "c3i6WSNKDrqx"
   },
   "source": [
    "MODEL FITTING NAIVE BAYES\n"
   ]
  },
  {
   "cell_type": "code",
   "execution_count": 19,
   "metadata": {
    "colab": {
     "base_uri": "https://localhost:8080/"
    },
    "id": "OKU8NfLjDvUe",
    "outputId": "c28cba21-c0e9-4634-9b44-0452417241fd"
   },
   "outputs": [
    {
     "data": {
      "text/plain": [
       "GaussianNB()"
      ]
     },
     "execution_count": 19,
     "metadata": {},
     "output_type": "execute_result"
    }
   ],
   "source": [
    "from sklearn.naive_bayes import GaussianNB\n",
    "classifier = GaussianNB()\n",
    "classifier.fit(X_train, y_train)"
   ]
  },
  {
   "cell_type": "code",
   "execution_count": 20,
   "metadata": {
    "id": "y_NaRmn5DyNa"
   },
   "outputs": [],
   "source": [
    "import joblib\n",
    "path  = open('c2_Classifier_sentiment_Model','wb')\n",
    "joblib.dump(classifier, path)"
   ]
  },
  {
   "cell_type": "code",
   "execution_count": 84,
   "metadata": {
    "colab": {
     "base_uri": "https://localhost:8080/",
     "height": 17
    },
    "id": "5T-pT7-3Ed_B",
    "outputId": "054e3e66-84f4-45d8-e1e4-83aaed016a21"
   },
   "outputs": [
    {
     "data": {
      "application/javascript": [
       "\n",
       "    async function download(id, filename, size) {\n",
       "      if (!google.colab.kernel.accessAllowed) {\n",
       "        return;\n",
       "      }\n",
       "      const div = document.createElement('div');\n",
       "      const label = document.createElement('label');\n",
       "      label.textContent = `Downloading \"${filename}\": `;\n",
       "      div.appendChild(label);\n",
       "      const progress = document.createElement('progress');\n",
       "      progress.max = size;\n",
       "      div.appendChild(progress);\n",
       "      document.body.appendChild(div);\n",
       "\n",
       "      const buffers = [];\n",
       "      let downloaded = 0;\n",
       "\n",
       "      const channel = await google.colab.kernel.comms.open(id);\n",
       "      // Send a message to notify the kernel that we're ready.\n",
       "      channel.send({})\n",
       "\n",
       "      for await (const message of channel.messages) {\n",
       "        // Send a message to notify the kernel that we're ready.\n",
       "        channel.send({})\n",
       "        if (message.buffers) {\n",
       "          for (const buffer of message.buffers) {\n",
       "            buffers.push(buffer);\n",
       "            downloaded += buffer.byteLength;\n",
       "            progress.value = downloaded;\n",
       "          }\n",
       "        }\n",
       "      }\n",
       "      const blob = new Blob(buffers, {type: 'application/binary'});\n",
       "      const a = document.createElement('a');\n",
       "      a.href = window.URL.createObjectURL(blob);\n",
       "      a.download = filename;\n",
       "      div.appendChild(a);\n",
       "      a.click();\n",
       "      div.remove();\n",
       "    }\n",
       "  "
      ],
      "text/plain": [
       "<IPython.core.display.Javascript object>"
      ]
     },
     "metadata": {},
     "output_type": "display_data"
    },
    {
     "data": {
      "application/javascript": [
       "download(\"download_bd997563-b146-439c-b93c-4430b6dcf66f\", \"c2_Classifier_sentiment_Model\", 49233)"
      ],
      "text/plain": [
       "<IPython.core.display.Javascript object>"
      ]
     },
     "metadata": {},
     "output_type": "display_data"
    }
   ],
   "source": [
    "from google.colab import files\n",
    "files.download('c2_Classifier_sentiment_Model')"
   ]
  },
  {
   "cell_type": "markdown",
   "metadata": {
    "id": "EZKnKq0hfrNF"
   },
   "source": [
    "MODEL PERFORMANCE"
   ]
  },
  {
   "cell_type": "code",
   "execution_count": 24,
   "metadata": {
    "colab": {
     "base_uri": "https://localhost:8080/"
    },
    "id": "rhO3KMdGfwHM",
    "outputId": "4a391d00-6e85-4c6c-fe4f-3c17f25e1aec"
   },
   "outputs": [
    {
     "name": "stdout",
     "output_type": "stream",
     "text": [
      "[[215  25]\n",
      " [570 121]]\n",
      "              precision    recall  f1-score   support\n",
      "\n",
      "           0       0.27      0.90      0.42       240\n",
      "           1       0.83      0.18      0.29       691\n",
      "\n",
      "    accuracy                           0.36       931\n",
      "   macro avg       0.55      0.54      0.35       931\n",
      "weighted avg       0.69      0.36      0.32       931\n",
      "\n"
     ]
    },
    {
     "data": {
      "text/plain": [
       "0.3609022556390977"
      ]
     },
     "execution_count": 24,
     "metadata": {},
     "output_type": "execute_result"
    }
   ],
   "source": [
    "y_pred = classifier.predict(X_test)\n",
    "\n",
    "from sklearn.metrics import confusion_matrix, accuracy_score\n",
    "cm = confusion_matrix(y_test, y_pred)\n",
    "print(cm)\n",
    "print(classification_report(y_test,y_pred))\n",
    "accuracy_score(y_test, y_pred)"
   ]
  },
  {
   "cell_type": "code",
   "execution_count": 23,
   "metadata": {
    "id": "nSwMnWFOf0GR"
   },
   "outputs": [
    {
     "name": "stdout",
     "output_type": "stream",
     "text": [
      "              precision    recall  f1-score   support\n",
      "\n",
      "           0       0.30      1.00      0.46       905\n",
      "           1       1.00      0.26      0.41      2816\n",
      "\n",
      "    accuracy                           0.44      3721\n",
      "   macro avg       0.65      0.63      0.44      3721\n",
      "weighted avg       0.83      0.44      0.42      3721\n",
      "\n"
     ]
    }
   ],
   "source": [
    "from sklearn.metrics import classification_report\n",
    "y_pred_train = classifier.predict(X_train)\n",
    "print(classification_report(y_train,y_pred_train))"
   ]
  },
  {
   "cell_type": "code",
   "execution_count": null,
   "metadata": {},
   "outputs": [],
   "source": [
    "classifier.predict_proba[:,1]"
   ]
  },
  {
   "cell_type": "markdown",
   "metadata": {},
   "source": [
    "## Final Approach"
   ]
  },
  {
   "cell_type": "code",
   "execution_count": 11,
   "metadata": {},
   "outputs": [],
   "source": [
    "review = df['review_headline']"
   ]
  },
  {
   "cell_type": "code",
   "execution_count": 12,
   "metadata": {},
   "outputs": [],
   "source": [
    "import nltk"
   ]
  },
  {
   "cell_type": "code",
   "execution_count": 13,
   "metadata": {},
   "outputs": [],
   "source": [
    "from nltk.corpus import stopwords\n",
    "from nltk.stem import SnowballStemmer\n",
    "stop_words = stopwords.words('english')"
   ]
  },
  {
   "cell_type": "code",
   "execution_count": 14,
   "metadata": {},
   "outputs": [],
   "source": [
    "snow = SnowballStemmer('english')"
   ]
  },
  {
   "cell_type": "code",
   "execution_count": 16,
   "metadata": {},
   "outputs": [
    {
     "name": "stdout",
     "output_type": "stream",
     "text": [
      "Collecting emoji\n",
      "  Downloading emoji-1.6.1.tar.gz (170 kB)\n",
      "\u001b[K     |████████████████████████████████| 170 kB 1.7 MB/s eta 0:00:01\n",
      "\u001b[?25hBuilding wheels for collected packages: emoji\n",
      "  Building wheel for emoji (setup.py) ... \u001b[?25ldone\n",
      "\u001b[?25h  Created wheel for emoji: filename=emoji-1.6.1-py3-none-any.whl size=169295 sha256=273c50c1475e4050d4c75f79c5b7aac22c13d2b6988ccf1673386810b2637326\n",
      "  Stored in directory: /Users/sanjay_2/Library/Caches/pip/wheels/04/29/50/1e7189f03d2cf139e469863d54a1d3eabeb10c92c84e51f8a1\n",
      "Successfully built emoji\n",
      "Installing collected packages: emoji\n",
      "Successfully installed emoji-1.6.1\n",
      "Note: you may need to restart the kernel to use updated packages.\n"
     ]
    }
   ],
   "source": [
    "pip install emoji"
   ]
  },
  {
   "cell_type": "code",
   "execution_count": 17,
   "metadata": {},
   "outputs": [],
   "source": [
    "import emoji\n",
    "import re\n",
    "from nltk.tokenize import word_tokenize"
   ]
  },
  {
   "cell_type": "code",
   "execution_count": 18,
   "metadata": {},
   "outputs": [],
   "source": [
    "review = [re.sub(\"!\",\"\",txt) for txt in review]\n",
    "emoji_pattern = re.compile(\"[\"\n",
    "                           u\"\\U0001F600-\\U0001F64F\"  # emoticons\n",
    "                           u\"\\U0001F300-\\U0001F5FF\"  # symbols & pictographs\n",
    "                           u\"\\U0001F680-\\U0001F6FF\"  # transport & map symbols\n",
    "                           u\"\\U0001F1E0-\\U0001F1FF\"  # flags (iOS)\n",
    "                           u\"\\U00002702-\\U000027B0\"\n",
    "                           u\"\\U000024C2-\\U0001F251\"\n",
    "                           \"]+\", flags=re.UNICODE)\n",
    "def give_emoji_free_text(comm):\n",
    "    allchars = [str for str in comm]\n",
    "    emoji_list = [c for c in allchars if c in emoji.UNICODE_EMOJI]\n",
    "    clean_text = ' '.join([str for str in comm.split() if not any(i in str for i in emoji_list)])\n",
    "    return clean_text\n",
    "\n",
    "review = [give_emoji_free_text(txt) for txt in review]\n",
    "review = [give_emoji_free_text(txt) for txt in review]\n",
    "review = [re.sub(\"READ MORE|READ MOR|READ MO\",\"\",i) for i in review]\n",
    "review = [re.sub('-','',i) for i in review]\n",
    "review = [re.sub('\\d','',i) for i in review]"
   ]
  },
  {
   "cell_type": "code",
   "execution_count": 19,
   "metadata": {},
   "outputs": [],
   "source": [
    "text =[]\n",
    "setstop = ['money','purchase','penny','market','product','every']\n",
    "stopw = (stopwords.words('english'))\n",
    "stopw.extend(setstop)\n",
    "stopw = set(stopw)\n",
    "\n",
    "for message in review:\n",
    "    message = message.lower().strip()\n",
    "    words = [snow.stem(word) for word in message.split() if word not in stopw]\n",
    "    text.append(' '.join(words))"
   ]
  },
  {
   "cell_type": "code",
   "execution_count": 22,
   "metadata": {},
   "outputs": [
    {
     "name": "stderr",
     "output_type": "stream",
     "text": [
      "[nltk_data] Downloading package punkt to /Users/sanjay_2/nltk_data...\n",
      "[nltk_data]   Unzipping tokenizers/punkt.zip.\n"
     ]
    },
    {
     "data": {
      "text/plain": [
       "True"
      ]
     },
     "execution_count": 22,
     "metadata": {},
     "output_type": "execute_result"
    }
   ],
   "source": [
    "import nltk\n",
    "nltk.download('punkt')"
   ]
  },
  {
   "cell_type": "code",
   "execution_count": 23,
   "metadata": {},
   "outputs": [],
   "source": [
    "v= []\n",
    "for val in text:\n",
    "    val = str(val)\n",
    "    tokens = val.split()\n",
    "    for i in range(len(tokens)):\n",
    "        tokens[i] = tokens[i].lower()\n",
    "    v.append(\" \".join(tokens))\n",
    "for word in range(len(v)):\n",
    "    token = word_tokenize(v[word])\n",
    "    for tkn in token:\n",
    "        if tkn in stopw:\n",
    "            token.remove(tkn)\n",
    "    v[word] = \" \".join([str(ele) for ele in token])"
   ]
  },
  {
   "cell_type": "code",
   "execution_count": 24,
   "metadata": {},
   "outputs": [],
   "source": [
    "from sklearn.feature_extraction.text import CountVectorizer,TfidfVectorizer\n",
    "from sklearn.linear_model import LogisticRegression\n",
    "from sklearn.model_selection import train_test_split\n",
    "from sklearn.metrics import confusion_matrix,accuracy_score"
   ]
  },
  {
   "cell_type": "code",
   "execution_count": 25,
   "metadata": {},
   "outputs": [],
   "source": [
    "count_vect = CountVectorizer(max_features=5000)\n",
    "bow_data = count_vect.fit_transform(v).toarray()"
   ]
  },
  {
   "cell_type": "code",
   "execution_count": 26,
   "metadata": {},
   "outputs": [
    {
     "data": {
      "text/plain": [
       "['abil',\n",
       " 'abl',\n",
       " 'able',\n",
       " 'absolut',\n",
       " 'abus',\n",
       " 'accept',\n",
       " 'access',\n",
       " 'accident',\n",
       " 'accord',\n",
       " 'account']"
      ]
     },
     "execution_count": 26,
     "metadata": {},
     "output_type": "execute_result"
    }
   ],
   "source": [
    "count_vect.get_feature_names()[:10]"
   ]
  },
  {
   "cell_type": "code",
   "execution_count": 27,
   "metadata": {},
   "outputs": [
    {
     "data": {
      "text/plain": [
       "(4652, 1699)"
      ]
     },
     "execution_count": 27,
     "metadata": {},
     "output_type": "execute_result"
    }
   ],
   "source": [
    "tf_idf = TfidfVectorizer()\n",
    "tf_data = tf_idf.fit_transform(v).toarray()\n",
    "tf_data.shape"
   ]
  },
  {
   "cell_type": "code",
   "execution_count": 30,
   "metadata": {},
   "outputs": [],
   "source": [
    "z = []\n",
    "import random\n",
    "for i in range(len(v)):\n",
    "    c = random.randint(0,1)\n",
    "    z.append(c)\n",
    "df['Score'] = z\n",
    "y = df['Score']"
   ]
  },
  {
   "cell_type": "code",
   "execution_count": 31,
   "metadata": {},
   "outputs": [],
   "source": [
    "x_train,x_test,y_train,y_test = train_test_split(tf_data,y)"
   ]
  },
  {
   "cell_type": "code",
   "execution_count": 32,
   "metadata": {},
   "outputs": [
    {
     "data": {
      "text/plain": [
       "(3489, 1699)"
      ]
     },
     "execution_count": 32,
     "metadata": {},
     "output_type": "execute_result"
    }
   ],
   "source": [
    "x_train.shape"
   ]
  },
  {
   "cell_type": "code",
   "execution_count": 33,
   "metadata": {},
   "outputs": [
    {
     "data": {
      "text/plain": [
       "(1163,)"
      ]
     },
     "execution_count": 33,
     "metadata": {},
     "output_type": "execute_result"
    }
   ],
   "source": [
    "y_test.shape"
   ]
  },
  {
   "cell_type": "code",
   "execution_count": 34,
   "metadata": {},
   "outputs": [],
   "source": [
    "lr = LogisticRegression(class_weight='balanced')\n",
    "lr.fit(x_train,y_train)\n",
    "y_pred = lr.predict(x_test)"
   ]
  },
  {
   "cell_type": "code",
   "execution_count": 35,
   "metadata": {},
   "outputs": [
    {
     "data": {
      "text/plain": [
       "0.5184866723989682"
      ]
     },
     "execution_count": 35,
     "metadata": {},
     "output_type": "execute_result"
    }
   ],
   "source": [
    "accuracy_score(y_test,y_pred)"
   ]
  },
  {
   "cell_type": "code",
   "execution_count": 37,
   "metadata": {},
   "outputs": [
    {
     "data": {
      "text/plain": [
       "0.6832903410719404"
      ]
     },
     "execution_count": 37,
     "metadata": {},
     "output_type": "execute_result"
    }
   ],
   "source": [
    "accuracy_score(y_train,lr.predict(x_train))"
   ]
  },
  {
   "cell_type": "code",
   "execution_count": 38,
   "metadata": {},
   "outputs": [
    {
     "data": {
      "text/plain": [
       "array([[281, 294],\n",
       "       [266, 322]])"
      ]
     },
     "execution_count": 38,
     "metadata": {},
     "output_type": "execute_result"
    }
   ],
   "source": [
    "cm = confusion_matrix(y_test,y_pred)\n",
    "cm"
   ]
  },
  {
   "cell_type": "markdown",
   "metadata": {},
   "source": [
    "# Trying Textblob"
   ]
  },
  {
   "cell_type": "code",
   "execution_count": 39,
   "metadata": {},
   "outputs": [],
   "source": [
    "from textblob import TextBlob\n",
    "score = []\n",
    "for i in range(len(v)):\n",
    "    bl = TextBlob(v[i])\n",
    "    score.append(bl.sentiment.polarity)"
   ]
  },
  {
   "cell_type": "code",
   "execution_count": 40,
   "metadata": {},
   "outputs": [],
   "source": [
    "for i in range(len(score)):\n",
    "    if score[i] < 0.0:\n",
    "        score[i] = 0\n",
    "    elif score[i] > 0.0:\n",
    "        score[i] = 1\n",
    "    elif score[i] == 0.0:\n",
    "        score[i] = 0"
   ]
  },
  {
   "cell_type": "code",
   "execution_count": 41,
   "metadata": {},
   "outputs": [],
   "source": [
    "df['Score'] = score"
   ]
  },
  {
   "cell_type": "code",
   "execution_count": 43,
   "metadata": {},
   "outputs": [
    {
     "data": {
      "text/plain": [
       "0    2660\n",
       "1    1992\n",
       "Name: Score, dtype: int64"
      ]
     },
     "execution_count": 43,
     "metadata": {},
     "output_type": "execute_result"
    }
   ],
   "source": [
    "df['Score'].value_counts()"
   ]
  },
  {
   "cell_type": "code",
   "execution_count": 45,
   "metadata": {},
   "outputs": [],
   "source": [
    "df.review_headline = v\n",
    "vect = TfidfVectorizer()\n",
    "X=vect.fit_transform(df.review_headline).toarray()\n",
    "\n",
    "X_df = pd.DataFrame(X,columns = vect.get_feature_names())"
   ]
  },
  {
   "cell_type": "code",
   "execution_count": 46,
   "metadata": {},
   "outputs": [],
   "source": [
    "y = df['Score']"
   ]
  },
  {
   "cell_type": "code",
   "execution_count": 47,
   "metadata": {},
   "outputs": [
    {
     "name": "stdout",
     "output_type": "stream",
     "text": [
      "Trainig set: 0.956989247311828\n",
      "Testing set: 0.9361375498925392\n"
     ]
    }
   ],
   "source": [
    "X_train,X_test,y_train,y_test = train_test_split(X_df,y,test_size=0.7,random_state=123,stratify=y)\n",
    "log_reg = LogisticRegression(penalty='l2',C=1.0).fit(X_train,y_train)\n",
    "print(\"Trainig set:\",log_reg.score(X_train,y_train))\n",
    "print(\"Testing set:\",log_reg.score(X_test,y_test))"
   ]
  },
  {
   "cell_type": "code",
   "execution_count": 48,
   "metadata": {},
   "outputs": [],
   "source": [
    "y_pred = log_reg.predict(X_test)"
   ]
  },
  {
   "cell_type": "code",
   "execution_count": 49,
   "metadata": {},
   "outputs": [
    {
     "data": {
      "text/plain": [
       "0.9361375498925392"
      ]
     },
     "execution_count": 49,
     "metadata": {},
     "output_type": "execute_result"
    }
   ],
   "source": [
    "accuracy_score(y_test,y_pred)"
   ]
  },
  {
   "cell_type": "code",
   "execution_count": 50,
   "metadata": {},
   "outputs": [
    {
     "data": {
      "text/plain": [
       "0.956989247311828"
      ]
     },
     "execution_count": 50,
     "metadata": {},
     "output_type": "execute_result"
    }
   ],
   "source": [
    "accuracy_score(y_train,log_reg.predict(X_train))"
   ]
  },
  {
   "cell_type": "code",
   "execution_count": 51,
   "metadata": {},
   "outputs": [
    {
     "data": {
      "text/plain": [
       "array([[1856,    6],\n",
       "       [ 202, 1193]])"
      ]
     },
     "execution_count": 51,
     "metadata": {},
     "output_type": "execute_result"
    }
   ],
   "source": [
    "cm = confusion_matrix(y_test,y_pred)\n",
    "cm"
   ]
  },
  {
   "cell_type": "code",
   "execution_count": null,
   "metadata": {},
   "outputs": [],
   "source": []
  }
 ],
 "metadata": {
  "accelerator": "GPU",
  "colab": {
   "name": "Project.ipynb",
   "provenance": []
  },
  "kernelspec": {
   "display_name": "Python 3",
   "language": "python",
   "name": "python3"
  },
  "language_info": {
   "codemirror_mode": {
    "name": "ipython",
    "version": 3
   },
   "file_extension": ".py",
   "mimetype": "text/x-python",
   "name": "python",
   "nbconvert_exporter": "python",
   "pygments_lexer": "ipython3",
   "version": "3.8.5"
  }
 },
 "nbformat": 4,
 "nbformat_minor": 5
}
